{
  "nbformat": 4,
  "nbformat_minor": 5,
  "metadata": {
    "kernelspec": {
      "display_name": "Python 3",
      "language": "python",
      "name": "python3"
    },
    "language_info": {
      "codemirror_mode": {
        "name": "ipython",
        "version": 3
      },
      "file_extension": ".py",
      "mimetype": "text/x-python",
      "name": "python",
      "nbconvert_exporter": "python",
      "pygments_lexer": "ipython3",
      "version": "3.8.3"
    },
    "colab": {
      "name": "Spotify_API.ipynb",
      "provenance": [],
      "collapsed_sections": [
        "8B39z0iL2Zrz"
      ]
    }
  },
  "cells": [
    {
      "cell_type": "markdown",
      "metadata": {
        "id": "aqoqBR6BFMnz"
      },
      "source": [
        "# Spotify API"
      ],
      "id": "aqoqBR6BFMnz"
    },
    {
      "cell_type": "code",
      "metadata": {
        "id": "Jh7hZzTTGc97"
      },
      "source": [
        "import pandas as pd\n",
        "import requests # import package to make web API requests\n",
        "import json\n",
        "import datetime"
      ],
      "id": "Jh7hZzTTGc97",
      "execution_count": null,
      "outputs": []
    },
    {
      "cell_type": "code",
      "metadata": {
        "id": "L_KTHXf_G6ea"
      },
      "source": [
        "oauth_token = 'BQBcgTU60TNIo8ARu39Bqat9-GOdDRpKcu10XKS1akccKlLtYkmDY1DXmpK7e3NF9YvA5IBZi-h033n49FWKpymiCqkOeNPJrkLFHEx59uh1xoPZpf0-jnmdkb0ZAHGY7GK5dds1m_CAxhuFAFEvpLGcuBBclUxCSsi6gBLGQQOxlVxiUH5e09AtExUD6Cw'\n",
        "headers = {\n",
        "    \"Authorization\": f'Bearer {oauth_token}'\n",
        "}\n",
        "\n",
        "source_artist_id = '7CajNmpbOovFoOoasH2HaY' # Calvin Harris\n",
        "\n",
        "artist_endpoint_url = f'https://api.spotify.com/v1/artists/{source_artist_id}'\n",
        "\n",
        "artist_api_request = requests.get(artist_endpoint_url, headers = headers)"
      ],
      "id": "L_KTHXf_G6ea",
      "execution_count": null,
      "outputs": []
    },
    {
      "cell_type": "code",
      "metadata": {
        "id": "oG9JJbFiH5cF"
      },
      "source": [
        "response = json.loads(artist_api_request.text)\n",
        "print(response)\n",
        "source_artist_name = response['name'] "
      ],
      "id": "oG9JJbFiH5cF",
      "execution_count": null,
      "outputs": []
    },
    {
      "cell_type": "code",
      "metadata": {
        "id": "NgohGK7eJ4Y7"
      },
      "source": [
        "related_artist_endpoint_url = f'https://api.spotify.com/v1/artists/{source_artist_id}/related-artists'\n",
        "\n",
        "related_artist_api_request = requests.get(related_artist_endpoint_url, headers = headers)\n",
        "\n",
        "related_artist_api_response = json.loads(related_artist_api_request.text)"
      ],
      "id": "NgohGK7eJ4Y7",
      "execution_count": null,
      "outputs": []
    },
    {
      "cell_type": "code",
      "metadata": {
        "id": "CGiKajLzLcth"
      },
      "source": [
        "selected_related_artists = {}\n",
        "\n",
        "for artist in related_artist_api_response['artists']:\n",
        "  selected_related_artists[artist['name']] = artist['id']\n",
        "\n",
        "selected_related_artists"
      ],
      "id": "CGiKajLzLcth",
      "execution_count": null,
      "outputs": []
    },
    {
      "cell_type": "code",
      "metadata": {
        "id": "RgOM-7pHNVG4"
      },
      "source": [
        "user_id = '2vbvjwlqlgnp6oc96sqo49dh1'\n",
        "playlist_endpoints_url = f'https://api.spotify.com/v1/users/{user_id}/playlists'\n",
        "\n",
        "request_body = json.dumps({\n",
        "    'name': f'{source_artist_name} Mixtape',\n",
        "    'public': False\n",
        "})\n",
        "\n",
        "playlist_api_request = requests.post(playlist_endpoints_url, headers=headers, data=request_body)"
      ],
      "id": "RgOM-7pHNVG4",
      "execution_count": null,
      "outputs": []
    },
    {
      "cell_type": "code",
      "metadata": {
        "colab": {
          "base_uri": "https://localhost:8080/"
        },
        "id": "STjXjRKDOSj0",
        "outputId": "fc96b1e9-e54a-4d91-8b2d-3e1eb28a01b7"
      },
      "source": [
        "playlist_api_response = json.loads(playlist_api_request.text)\n",
        "print(playlist_api_response)\n",
        "playlist_id = playlist_api_response['id']\n",
        "\n",
        "playlist_url = playlist_api_response['external_urls']['spotify']"
      ],
      "id": "STjXjRKDOSj0",
      "execution_count": null,
      "outputs": [
        {
          "output_type": "stream",
          "text": [
            "{'collaborative': False, 'description': None, 'external_urls': {'spotify': 'https://open.spotify.com/playlist/5GjEY5ktq64t06Jf71ZlnQ'}, 'followers': {'href': None, 'total': 0}, 'href': 'https://api.spotify.com/v1/playlists/5GjEY5ktq64t06Jf71ZlnQ', 'id': '5GjEY5ktq64t06Jf71ZlnQ', 'images': [], 'name': 'Calvin Harris Mixtape', 'owner': {'display_name': 'data_mngmnt', 'external_urls': {'spotify': 'https://open.spotify.com/user/2vbvjwlqlgnp6oc96sqo49dh1'}, 'href': 'https://api.spotify.com/v1/users/2vbvjwlqlgnp6oc96sqo49dh1', 'id': '2vbvjwlqlgnp6oc96sqo49dh1', 'type': 'user', 'uri': 'spotify:user:2vbvjwlqlgnp6oc96sqo49dh1'}, 'primary_color': None, 'public': False, 'snapshot_id': 'MSxhNjZlYmI2MGE0MjIxZGQ4ZDRkOGY4ZWRjZTg1MDdkMGRmYTI4ZjVh', 'tracks': {'href': 'https://api.spotify.com/v1/playlists/5GjEY5ktq64t06Jf71ZlnQ/tracks', 'items': [], 'limit': 100, 'next': None, 'offset': 0, 'previous': None, 'total': 0}, 'type': 'playlist', 'uri': 'spotify:playlist:5GjEY5ktq64t06Jf71ZlnQ'}\n"
          ],
          "name": "stdout"
        }
      ]
    },
    {
      "cell_type": "code",
      "metadata": {
        "id": "57KIQKF7PLr2"
      },
      "source": [
        "selected_tracks_uri = []\n",
        "\n",
        "for artist in selected_related_artists:\n",
        "  #print(artist, selected_related_artists[artist])\n",
        "  artist_id = selected_related_artists[artist]\n",
        "  artist_toptracks_endpoint_url = f'https://api.spotify.com/v1/artists/{artist_id}/top-tracks'\n",
        "  params = {'country': 'US'}\n",
        "  artist_toptracks_api_request = requests.get(artist_toptracks_endpoint_url, headers=headers, params=params)\n",
        "  artist_toptracks_api_response = json.loads(artist_toptracks_api_request.text)\n",
        "  artist_toptracks_api_response['tracks']\n",
        "  for track in artist_toptracks_api_response['tracks']:\n",
        "    selected_tracks_uri.append(track['uri'])\n",
        "\n",
        "selected_tracks_uri"
      ],
      "id": "57KIQKF7PLr2",
      "execution_count": null,
      "outputs": []
    },
    {
      "cell_type": "code",
      "metadata": {
        "colab": {
          "base_uri": "https://localhost:8080/",
          "height": 739
        },
        "id": "f9jA0aKEaZga",
        "outputId": "6fda46d5-55c0-48a0-9eb3-c347e3ea93b4"
      },
      "source": [
        "track_name = []\n",
        "track_release_date = []\n",
        "track_duration = []\n",
        "track_artist = []\n",
        "track_popularity = []\n",
        "track_explicit = []\n",
        "track_id = []\n",
        "track_artist_id = []\n",
        "\n",
        "for artist in selected_related_artists:\n",
        "  print(artist)\n",
        "  artist_id = selected_related_artists[artist]\n",
        "  artist_toptracks_endpoint_url = f'https://api.spotify.com/v1/artists/{artist_id}/top-tracks'\n",
        "  params = {'country': 'US'}\n",
        "  artist_toptracks_api_request = requests.get(artist_toptracks_endpoint_url, headers=headers, params=params)\n",
        "  artist_toptracks_api_response = json.loads(artist_toptracks_api_request.text)\n",
        "  artist_toptracks_api_response['tracks']\n",
        "  for track in artist_toptracks_api_response['tracks'][0:10]:\n",
        "    track_id.append(track['id'])\n",
        "    track_name.append(track['name'])\n",
        "    track_release_date.append(track['album']['release_date'])\n",
        "    track_duration.append(track['duration_ms'])\n",
        "    track_artist_id.append(track['artists'][0]['id'])\n",
        "    track_artist.append(track['artists'][0]['name'])\n",
        "    track_popularity.append(track['popularity'])\n",
        "    track_explicit.append(track['explicit'])\n",
        "\n",
        "tracks_df = pd.DataFrame()\n",
        "tracks_df['track_id'] = track_id\n",
        "tracks_df['track_name'] = track_name\n",
        "tracks_df['track_release_date'] = track_release_date\n",
        "tracks_df['track_duration'] = track_duration\n",
        "tracks_df['track_artist_id'] = track_artist_id\n",
        "tracks_df['track_artist'] = track_artist\n",
        "tracks_df['track_popularity'] = track_popularity\n",
        "tracks_df['track_explicit'] = track_explicit\n",
        "\n",
        "tracks_df"
      ],
      "id": "f9jA0aKEaZga",
      "execution_count": null,
      "outputs": [
        {
          "output_type": "stream",
          "text": [
            "David Guetta\n",
            "The Chainsmokers\n",
            "Jonas Blue\n",
            "Sigala\n",
            "Martin Jensen\n",
            "Cheat Codes\n",
            "Jax Jones\n",
            "Lost Frequencies\n",
            "Kungs\n",
            "Felix Jaehn\n",
            "Jack Ü\n",
            "Galantis\n",
            "Loud Luxury\n",
            "Kygo\n",
            "Alesso\n",
            "Zedd\n",
            "Axwell /\\ Ingrosso\n",
            "Major Lazer\n",
            "Matoma\n",
            "Martin Solveig\n"
          ],
          "name": "stdout"
        },
        {
          "output_type": "execute_result",
          "data": {
            "text/html": [
              "<div>\n",
              "<style scoped>\n",
              "    .dataframe tbody tr th:only-of-type {\n",
              "        vertical-align: middle;\n",
              "    }\n",
              "\n",
              "    .dataframe tbody tr th {\n",
              "        vertical-align: top;\n",
              "    }\n",
              "\n",
              "    .dataframe thead th {\n",
              "        text-align: right;\n",
              "    }\n",
              "</style>\n",
              "<table border=\"1\" class=\"dataframe\">\n",
              "  <thead>\n",
              "    <tr style=\"text-align: right;\">\n",
              "      <th></th>\n",
              "      <th>track_id</th>\n",
              "      <th>track_name</th>\n",
              "      <th>track_release_date</th>\n",
              "      <th>track_duration</th>\n",
              "      <th>track_artist_id</th>\n",
              "      <th>track_artist</th>\n",
              "      <th>track_popularity</th>\n",
              "      <th>track_explicit</th>\n",
              "    </tr>\n",
              "  </thead>\n",
              "  <tbody>\n",
              "    <tr>\n",
              "      <th>0</th>\n",
              "      <td>0siYMEsGrzzzlWLXK5zJfS</td>\n",
              "      <td>BED</td>\n",
              "      <td>2021-02-26</td>\n",
              "      <td>178087</td>\n",
              "      <td>6DgP9otnZw5z6daOntINxp</td>\n",
              "      <td>Joel Corry</td>\n",
              "      <td>88</td>\n",
              "      <td>False</td>\n",
              "    </tr>\n",
              "    <tr>\n",
              "      <th>1</th>\n",
              "      <td>0XwSUpdrF7nR7hVxbDs7mb</td>\n",
              "      <td>Floating Through Space</td>\n",
              "      <td>2021-02-12</td>\n",
              "      <td>177800</td>\n",
              "      <td>5WUlDfRSoLAfcVSX1WnrxN</td>\n",
              "      <td>Sia</td>\n",
              "      <td>74</td>\n",
              "      <td>False</td>\n",
              "    </tr>\n",
              "    <tr>\n",
              "      <th>2</th>\n",
              "      <td>59o6ojGNGJOYiVJSzC6Lsa</td>\n",
              "      <td>Memories (feat. Kid Cudi) - 2021 Remix</td>\n",
              "      <td>2021-01-08</td>\n",
              "      <td>162992</td>\n",
              "      <td>1Cs0zKBU1kc0i8ypK3B9ai</td>\n",
              "      <td>David Guetta</td>\n",
              "      <td>80</td>\n",
              "      <td>True</td>\n",
              "    </tr>\n",
              "    <tr>\n",
              "      <th>3</th>\n",
              "      <td>0lHAMNU8RGiIObScrsRgmP</td>\n",
              "      <td>Titanium (feat. Sia)</td>\n",
              "      <td>2011-08-26</td>\n",
              "      <td>245040</td>\n",
              "      <td>1Cs0zKBU1kc0i8ypK3B9ai</td>\n",
              "      <td>David Guetta</td>\n",
              "      <td>67</td>\n",
              "      <td>False</td>\n",
              "    </tr>\n",
              "    <tr>\n",
              "      <th>4</th>\n",
              "      <td>6lhZLbb0czULpjb2kFryPS</td>\n",
              "      <td>Let's Love</td>\n",
              "      <td>2020-09-11</td>\n",
              "      <td>200645</td>\n",
              "      <td>1Cs0zKBU1kc0i8ypK3B9ai</td>\n",
              "      <td>David Guetta</td>\n",
              "      <td>79</td>\n",
              "      <td>False</td>\n",
              "    </tr>\n",
              "    <tr>\n",
              "      <th>...</th>\n",
              "      <td>...</td>\n",
              "      <td>...</td>\n",
              "      <td>...</td>\n",
              "      <td>...</td>\n",
              "      <td>...</td>\n",
              "      <td>...</td>\n",
              "      <td>...</td>\n",
              "      <td>...</td>\n",
              "    </tr>\n",
              "    <tr>\n",
              "      <th>195</th>\n",
              "      <td>2uMbCJ8lxF7hqpQUaeo42D</td>\n",
              "      <td>Do It Right</td>\n",
              "      <td>2016-05-20</td>\n",
              "      <td>213211</td>\n",
              "      <td>1bj5GrcLom5gZFF5t949Xl</td>\n",
              "      <td>Martin Solveig</td>\n",
              "      <td>62</td>\n",
              "      <td>False</td>\n",
              "    </tr>\n",
              "    <tr>\n",
              "      <th>196</th>\n",
              "      <td>0xsZyK1iL6WO8WEzVdjySp</td>\n",
              "      <td>No Lie</td>\n",
              "      <td>2020-04-10</td>\n",
              "      <td>166992</td>\n",
              "      <td>4CuipEvwcoQggmCV8jpKF9</td>\n",
              "      <td>Michael Calfan</td>\n",
              "      <td>60</td>\n",
              "      <td>False</td>\n",
              "    </tr>\n",
              "    <tr>\n",
              "      <th>197</th>\n",
              "      <td>0dbQ4h3cs8QE5fOPMYdDrX</td>\n",
              "      <td>Intoxicated - Radio Edit</td>\n",
              "      <td>2015-10-02</td>\n",
              "      <td>159560</td>\n",
              "      <td>1bj5GrcLom5gZFF5t949Xl</td>\n",
              "      <td>Martin Solveig</td>\n",
              "      <td>58</td>\n",
              "      <td>False</td>\n",
              "    </tr>\n",
              "    <tr>\n",
              "      <th>198</th>\n",
              "      <td>3sl4dcqSwxHVnLfqwF2jly</td>\n",
              "      <td>Hello (feat. Dragonette)</td>\n",
              "      <td>2010-12-14</td>\n",
              "      <td>191387</td>\n",
              "      <td>1bj5GrcLom5gZFF5t949Xl</td>\n",
              "      <td>Martin Solveig</td>\n",
              "      <td>59</td>\n",
              "      <td>False</td>\n",
              "    </tr>\n",
              "    <tr>\n",
              "      <th>199</th>\n",
              "      <td>0IhTEIjFaRt3B2NQYf9azQ</td>\n",
              "      <td>Thing For You (With Martin Solveig)</td>\n",
              "      <td>2019-07-12</td>\n",
              "      <td>191398</td>\n",
              "      <td>1Cs0zKBU1kc0i8ypK3B9ai</td>\n",
              "      <td>David Guetta</td>\n",
              "      <td>58</td>\n",
              "      <td>True</td>\n",
              "    </tr>\n",
              "  </tbody>\n",
              "</table>\n",
              "<p>200 rows × 8 columns</p>\n",
              "</div>"
            ],
            "text/plain": [
              "                   track_id  ... track_explicit\n",
              "0    0siYMEsGrzzzlWLXK5zJfS  ...          False\n",
              "1    0XwSUpdrF7nR7hVxbDs7mb  ...          False\n",
              "2    59o6ojGNGJOYiVJSzC6Lsa  ...           True\n",
              "3    0lHAMNU8RGiIObScrsRgmP  ...          False\n",
              "4    6lhZLbb0czULpjb2kFryPS  ...          False\n",
              "..                      ...  ...            ...\n",
              "195  2uMbCJ8lxF7hqpQUaeo42D  ...          False\n",
              "196  0xsZyK1iL6WO8WEzVdjySp  ...          False\n",
              "197  0dbQ4h3cs8QE5fOPMYdDrX  ...          False\n",
              "198  3sl4dcqSwxHVnLfqwF2jly  ...          False\n",
              "199  0IhTEIjFaRt3B2NQYf9azQ  ...           True\n",
              "\n",
              "[200 rows x 8 columns]"
            ]
          },
          "metadata": {
            "tags": []
          },
          "execution_count": 45
        }
      ]
    },
    {
      "cell_type": "code",
      "metadata": {
        "id": "rAfPtd72R71J"
      },
      "source": [
        "FACT_TRACK = tracks_df[['track_id','track_release_date','track_duration','track_artist_id','track_popularity','track_explicit']]\n",
        "DIM_DATE = tracks_df[['track_release_date']]\n",
        "DIM_ARTIST = tracks_df[['track_artist_id','track_artist']]\n",
        "DIM_TRACK_NAME = tracks_df[['track_id','track_name']]"
      ],
      "id": "rAfPtd72R71J",
      "execution_count": null,
      "outputs": []
    },
    {
      "cell_type": "code",
      "metadata": {
        "id": "j_CHeF_VcOdv"
      },
      "source": [
        "FACT_TRACK[FACT_TRACK['track_id'].duplicated()]['track_id']\n",
        "FACT_TRACK = FACT_TRACK.drop_duplicates(subset='track_id')\n",
        "FACT_TRACK['track_duration'] = FACT_TRACK['track_duration'] / 60000\n",
        "FACT_TRACK['track_explicit'] = FACT_TRACK['track_explicit'].astype(int)\n",
        "FACT_TRACK.to_csv('FACT_TRACK.csv', index=False)"
      ],
      "id": "j_CHeF_VcOdv",
      "execution_count": null,
      "outputs": []
    },
    {
      "cell_type": "code",
      "metadata": {
        "colab": {
          "base_uri": "https://localhost:8080/"
        },
        "id": "-MTo12owfN0D",
        "outputId": "e06c905d-c8b4-40e9-92e5-a7894d94d7a4"
      },
      "source": [
        "DIM_DATE['track_release_date'] = DIM_DATE['track_release_date'].astype('datetime64')\n",
        "DIM_DATE.drop_duplicates(inplace=True)\n",
        "DIM_DATE['day'] = DIM_DATE['track_release_date'].dt.day\n",
        "DIM_DATE['month'] = DIM_DATE['track_release_date'].dt.month\n",
        "DIM_DATE['year'] = DIM_DATE['track_release_date'].dt.year\n",
        "DIM_DATE['quarter'] = DIM_DATE['track_release_date'].dt.quarter\n",
        "DIM_DATE.sort_values(by='track_release_date', inplace=True)\n",
        "DIM_DATE.to_csv('DIM_DATE.csv', index=False)"
      ],
      "id": "-MTo12owfN0D",
      "execution_count": null,
      "outputs": [
        {
          "output_type": "stream",
          "text": [
            "/usr/local/lib/python3.7/dist-packages/ipykernel_launcher.py:1: SettingWithCopyWarning: \n",
            "A value is trying to be set on a copy of a slice from a DataFrame.\n",
            "Try using .loc[row_indexer,col_indexer] = value instead\n",
            "\n",
            "See the caveats in the documentation: https://pandas.pydata.org/pandas-docs/stable/user_guide/indexing.html#returning-a-view-versus-a-copy\n",
            "  \"\"\"Entry point for launching an IPython kernel.\n",
            "/usr/local/lib/python3.7/dist-packages/ipykernel_launcher.py:2: SettingWithCopyWarning: \n",
            "A value is trying to be set on a copy of a slice from a DataFrame\n",
            "\n",
            "See the caveats in the documentation: https://pandas.pydata.org/pandas-docs/stable/user_guide/indexing.html#returning-a-view-versus-a-copy\n",
            "  \n",
            "/usr/local/lib/python3.7/dist-packages/ipykernel_launcher.py:3: SettingWithCopyWarning: \n",
            "A value is trying to be set on a copy of a slice from a DataFrame.\n",
            "Try using .loc[row_indexer,col_indexer] = value instead\n",
            "\n",
            "See the caveats in the documentation: https://pandas.pydata.org/pandas-docs/stable/user_guide/indexing.html#returning-a-view-versus-a-copy\n",
            "  This is separate from the ipykernel package so we can avoid doing imports until\n",
            "/usr/local/lib/python3.7/dist-packages/ipykernel_launcher.py:4: SettingWithCopyWarning: \n",
            "A value is trying to be set on a copy of a slice from a DataFrame.\n",
            "Try using .loc[row_indexer,col_indexer] = value instead\n",
            "\n",
            "See the caveats in the documentation: https://pandas.pydata.org/pandas-docs/stable/user_guide/indexing.html#returning-a-view-versus-a-copy\n",
            "  after removing the cwd from sys.path.\n",
            "/usr/local/lib/python3.7/dist-packages/ipykernel_launcher.py:5: SettingWithCopyWarning: \n",
            "A value is trying to be set on a copy of a slice from a DataFrame.\n",
            "Try using .loc[row_indexer,col_indexer] = value instead\n",
            "\n",
            "See the caveats in the documentation: https://pandas.pydata.org/pandas-docs/stable/user_guide/indexing.html#returning-a-view-versus-a-copy\n",
            "  \"\"\"\n",
            "/usr/local/lib/python3.7/dist-packages/ipykernel_launcher.py:6: SettingWithCopyWarning: \n",
            "A value is trying to be set on a copy of a slice from a DataFrame.\n",
            "Try using .loc[row_indexer,col_indexer] = value instead\n",
            "\n",
            "See the caveats in the documentation: https://pandas.pydata.org/pandas-docs/stable/user_guide/indexing.html#returning-a-view-versus-a-copy\n",
            "  \n",
            "/usr/local/lib/python3.7/dist-packages/ipykernel_launcher.py:7: SettingWithCopyWarning: \n",
            "A value is trying to be set on a copy of a slice from a DataFrame\n",
            "\n",
            "See the caveats in the documentation: https://pandas.pydata.org/pandas-docs/stable/user_guide/indexing.html#returning-a-view-versus-a-copy\n",
            "  import sys\n"
          ],
          "name": "stderr"
        }
      ]
    },
    {
      "cell_type": "code",
      "metadata": {
        "colab": {
          "base_uri": "https://localhost:8080/"
        },
        "id": "WBsdm__bhMtM",
        "outputId": "4073d538-5478-4253-cf64-696bb8f08a63"
      },
      "source": [
        "DIM_ARTIST.drop_duplicates(subset='track_artist_id', inplace=True)\n",
        "DIM_ARTIST.to_csv('DIM_ARTIST.csv', index=False)"
      ],
      "id": "WBsdm__bhMtM",
      "execution_count": null,
      "outputs": [
        {
          "output_type": "stream",
          "text": [
            "/usr/local/lib/python3.7/dist-packages/ipykernel_launcher.py:1: SettingWithCopyWarning: \n",
            "A value is trying to be set on a copy of a slice from a DataFrame\n",
            "\n",
            "See the caveats in the documentation: https://pandas.pydata.org/pandas-docs/stable/user_guide/indexing.html#returning-a-view-versus-a-copy\n",
            "  \"\"\"Entry point for launching an IPython kernel.\n"
          ],
          "name": "stderr"
        }
      ]
    },
    {
      "cell_type": "code",
      "metadata": {
        "colab": {
          "base_uri": "https://localhost:8080/"
        },
        "id": "N18wAY8thx_2",
        "outputId": "c9feb417-05da-47e9-95f8-1236310d0842"
      },
      "source": [
        "DIM_TRACK_NAME.drop_duplicates(subset='track_id', inplace=True)\n",
        "DIM_TRACK_NAME.to_csv('DIM_TRACK_NAME.csv',index=False)"
      ],
      "id": "N18wAY8thx_2",
      "execution_count": null,
      "outputs": [
        {
          "output_type": "stream",
          "text": [
            "/usr/local/lib/python3.7/dist-packages/ipykernel_launcher.py:1: SettingWithCopyWarning: \n",
            "A value is trying to be set on a copy of a slice from a DataFrame\n",
            "\n",
            "See the caveats in the documentation: https://pandas.pydata.org/pandas-docs/stable/user_guide/indexing.html#returning-a-view-versus-a-copy\n",
            "  \"\"\"Entry point for launching an IPython kernel.\n"
          ],
          "name": "stderr"
        }
      ]
    }
  ]
}