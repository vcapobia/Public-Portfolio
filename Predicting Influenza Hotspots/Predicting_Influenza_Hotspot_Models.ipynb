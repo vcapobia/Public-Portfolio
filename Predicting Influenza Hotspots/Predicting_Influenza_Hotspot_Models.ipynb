{
  "nbformat": 4,
  "nbformat_minor": 0,
  "metadata": {
    "colab": {
      "name": "6070_Group_Project_FinalCode.ipynb",
      "provenance": []
    },
    "kernelspec": {
      "name": "python3",
      "display_name": "Python 3"
    },
    "language_info": {
      "name": "python"
    }
  },
  "cells": [
    {
      "cell_type": "markdown",
      "metadata": {
        "id": "iA2Qfx_uJC_W"
      },
      "source": [
        "# COVID-19 Hotspot Prediction\n",
        "\n",
        "Binary Classifier\n"
      ]
    },
    {
      "cell_type": "markdown",
      "metadata": {
        "id": "cvVd1uc1oFBY"
      },
      "source": [
        "## Data Descriptions\n",
        "\n",
        "\n",
        "\n",
        "\n",
        "\n",
        "\n",
        "\n",
        "\n",
        "\n",
        "\n",
        "\n",
        "\n",
        "\n"
      ]
    },
    {
      "cell_type": "markdown",
      "metadata": {
        "id": "yPWOy0BsoIQs"
      },
      "source": [
        ""
      ]
    },
    {
      "cell_type": "code",
      "metadata": {
        "id": "C39cE4JhIxPh"
      },
      "source": [
        "#import necessary packages\n",
        "import pandas as pd\n",
        "import numpy as np\n",
        "from sklearn import linear_model\n",
        "from sklearn.model_selection import train_test_split\n",
        "from sklearn import metrics\n",
        "from sklearn.metrics import classification_report\n",
        "import pandas as pd\n",
        "import numpy as np\n",
        "from sklearn.tree import DecisionTreeClassifier\n",
        "import matplotlib.pyplot as plt\n",
        "from sklearn.metrics import confusion_matrix\n",
        "from sklearn.tree import export_graphviz\n",
        "from sklearn import tree"
      ],
      "execution_count": null,
      "outputs": []
    },
    {
      "cell_type": "code",
      "metadata": {
        "colab": {
          "base_uri": "https://localhost:8080/",
          "height": 678
        },
        "id": "BhC8jVQsJb6L",
        "outputId": "27561765-8b7c-4871-8485-8439fca6d182"
      },
      "source": [
        "#read csv into dataframe\n",
        "df = pd.read_csv('County_Hotspot_Data.csv')\n",
        "df\n",
        "#2722 rows and 17 columns"
      ],
      "execution_count": null,
      "outputs": [
        {
          "output_type": "execute_result",
          "data": {
            "text/html": [
              "<div>\n",
              "<style scoped>\n",
              "    .dataframe tbody tr th:only-of-type {\n",
              "        vertical-align: middle;\n",
              "    }\n",
              "\n",
              "    .dataframe tbody tr th {\n",
              "        vertical-align: top;\n",
              "    }\n",
              "\n",
              "    .dataframe thead th {\n",
              "        text-align: right;\n",
              "    }\n",
              "</style>\n",
              "<table border=\"1\" class=\"dataframe\">\n",
              "  <thead>\n",
              "    <tr style=\"text-align: right;\">\n",
              "      <th></th>\n",
              "      <th>county</th>\n",
              "      <th>Sum of Reported Cases</th>\n",
              "      <th>Critical_Cases_(Requiring_Bed)</th>\n",
              "      <th>Sum of all_hospital_beds</th>\n",
              "      <th>Beds_per_day</th>\n",
              "      <th>Percent_Beds_Avail</th>\n",
              "      <th>Sum of Pop_density</th>\n",
              "      <th>Sum of Population</th>\n",
              "      <th>Total_Population</th>\n",
              "      <th>Average of Median_age</th>\n",
              "      <th>Sum of Per Capita Income</th>\n",
              "      <th>Average of White % of Pop</th>\n",
              "      <th>Average of Black %. Of Pop</th>\n",
              "      <th>Average of Indian Native % of Pop</th>\n",
              "      <th>Average of Asian % of Pop</th>\n",
              "      <th>Average of Hawaiian Pacific Islander</th>\n",
              "      <th>Average of Other Race % of Pop</th>\n",
              "      <th>Hotspot</th>\n",
              "    </tr>\n",
              "  </thead>\n",
              "  <tbody>\n",
              "    <tr>\n",
              "      <th>0</th>\n",
              "      <td>Alameda</td>\n",
              "      <td>311</td>\n",
              "      <td>62.2</td>\n",
              "      <td>5736</td>\n",
              "      <td>819</td>\n",
              "      <td>92.40%</td>\n",
              "      <td>13289.5</td>\n",
              "      <td>10915156</td>\n",
              "      <td>1559308</td>\n",
              "      <td>38.0</td>\n",
              "      <td>362089</td>\n",
              "      <td>0.388439</td>\n",
              "      <td>0.106649</td>\n",
              "      <td>0.007568</td>\n",
              "      <td>0.311317</td>\n",
              "      <td>0.008079</td>\n",
              "      <td>0.114477</td>\n",
              "      <td>No Threat</td>\n",
              "    </tr>\n",
              "    <tr>\n",
              "      <th>1</th>\n",
              "      <td>Butte</td>\n",
              "      <td>1</td>\n",
              "      <td>0.2</td>\n",
              "      <td>2120</td>\n",
              "      <td>303</td>\n",
              "      <td>99.90%</td>\n",
              "      <td>924.7</td>\n",
              "      <td>1551046</td>\n",
              "      <td>221578</td>\n",
              "      <td>36.9</td>\n",
              "      <td>362089</td>\n",
              "      <td>0.801899</td>\n",
              "      <td>0.018176</td>\n",
              "      <td>0.010644</td>\n",
              "      <td>0.047289</td>\n",
              "      <td>0.003641</td>\n",
              "      <td>0.055989</td>\n",
              "      <td>No Threat</td>\n",
              "    </tr>\n",
              "    <tr>\n",
              "      <th>2</th>\n",
              "      <td>Calaveras</td>\n",
              "      <td>0</td>\n",
              "      <td>0.0</td>\n",
              "      <td>250</td>\n",
              "      <td>36</td>\n",
              "      <td>100.00%</td>\n",
              "      <td>303.1</td>\n",
              "      <td>314447</td>\n",
              "      <td>44921</td>\n",
              "      <td>52.0</td>\n",
              "      <td>239750</td>\n",
              "      <td>0.854993</td>\n",
              "      <td>0.018039</td>\n",
              "      <td>0.012274</td>\n",
              "      <td>0.038999</td>\n",
              "      <td>0.000894</td>\n",
              "      <td>0.039882</td>\n",
              "      <td>No Threat</td>\n",
              "    </tr>\n",
              "    <tr>\n",
              "      <th>3</th>\n",
              "      <td>Colusa</td>\n",
              "      <td>0</td>\n",
              "      <td>0.0</td>\n",
              "      <td>400</td>\n",
              "      <td>57</td>\n",
              "      <td>100.00%</td>\n",
              "      <td>129.5</td>\n",
              "      <td>149968</td>\n",
              "      <td>21424</td>\n",
              "      <td>36.4</td>\n",
              "      <td>239750</td>\n",
              "      <td>0.736003</td>\n",
              "      <td>0.024059</td>\n",
              "      <td>0.005917</td>\n",
              "      <td>0.083866</td>\n",
              "      <td>0.001967</td>\n",
              "      <td>0.106023</td>\n",
              "      <td>No Threat</td>\n",
              "    </tr>\n",
              "    <tr>\n",
              "      <th>4</th>\n",
              "      <td>Contra Costa</td>\n",
              "      <td>100</td>\n",
              "      <td>20.0</td>\n",
              "      <td>5594</td>\n",
              "      <td>799</td>\n",
              "      <td>97.50%</td>\n",
              "      <td>9416.4</td>\n",
              "      <td>7568624</td>\n",
              "      <td>1081232</td>\n",
              "      <td>40.0</td>\n",
              "      <td>239750</td>\n",
              "      <td>0.520561</td>\n",
              "      <td>0.088069</td>\n",
              "      <td>0.005083</td>\n",
              "      <td>0.178033</td>\n",
              "      <td>0.004009</td>\n",
              "      <td>0.140747</td>\n",
              "      <td>No Threat</td>\n",
              "    </tr>\n",
              "    <tr>\n",
              "      <th>...</th>\n",
              "      <td>...</td>\n",
              "      <td>...</td>\n",
              "      <td>...</td>\n",
              "      <td>...</td>\n",
              "      <td>...</td>\n",
              "      <td>...</td>\n",
              "      <td>...</td>\n",
              "      <td>...</td>\n",
              "      <td>...</td>\n",
              "      <td>...</td>\n",
              "      <td>...</td>\n",
              "      <td>...</td>\n",
              "      <td>...</td>\n",
              "      <td>...</td>\n",
              "      <td>...</td>\n",
              "      <td>...</td>\n",
              "      <td>...</td>\n",
              "      <td>...</td>\n",
              "    </tr>\n",
              "    <tr>\n",
              "      <th>2717</th>\n",
              "      <td>Tulare</td>\n",
              "      <td>173</td>\n",
              "      <td>34.6</td>\n",
              "      <td>4683</td>\n",
              "      <td>669</td>\n",
              "      <td>94.80%</td>\n",
              "      <td>652.4</td>\n",
              "      <td>3157756</td>\n",
              "      <td>451108</td>\n",
              "      <td>31.4</td>\n",
              "      <td>188524</td>\n",
              "      <td>0.675142</td>\n",
              "      <td>0.014610</td>\n",
              "      <td>0.015236</td>\n",
              "      <td>0.034852</td>\n",
              "      <td>0.001849</td>\n",
              "      <td>0.212808</td>\n",
              "      <td>No Threat</td>\n",
              "    </tr>\n",
              "    <tr>\n",
              "      <th>2718</th>\n",
              "      <td>Tuolumne</td>\n",
              "      <td>18</td>\n",
              "      <td>3.6</td>\n",
              "      <td>588</td>\n",
              "      <td>84</td>\n",
              "      <td>95.70%</td>\n",
              "      <td>167.3</td>\n",
              "      <td>380429</td>\n",
              "      <td>54347</td>\n",
              "      <td>34.0</td>\n",
              "      <td>161672</td>\n",
              "      <td>0.854993</td>\n",
              "      <td>0.018039</td>\n",
              "      <td>0.012274</td>\n",
              "      <td>0.038999</td>\n",
              "      <td>0.000894</td>\n",
              "      <td>0.039882</td>\n",
              "      <td>No Threat</td>\n",
              "    </tr>\n",
              "    <tr>\n",
              "      <th>2719</th>\n",
              "      <td>Ventura</td>\n",
              "      <td>366</td>\n",
              "      <td>73.2</td>\n",
              "      <td>8131</td>\n",
              "      <td>1162</td>\n",
              "      <td>93.70%</td>\n",
              "      <td>2649.5</td>\n",
              "      <td>5850530</td>\n",
              "      <td>835790</td>\n",
              "      <td>39.0</td>\n",
              "      <td>161672</td>\n",
              "      <td>0.801618</td>\n",
              "      <td>0.018333</td>\n",
              "      <td>0.006791</td>\n",
              "      <td>0.075328</td>\n",
              "      <td>0.001346</td>\n",
              "      <td>0.050919</td>\n",
              "      <td>No Threat</td>\n",
              "    </tr>\n",
              "    <tr>\n",
              "      <th>2720</th>\n",
              "      <td>Yolo</td>\n",
              "      <td>91</td>\n",
              "      <td>18.2</td>\n",
              "      <td>850</td>\n",
              "      <td>121</td>\n",
              "      <td>85.00%</td>\n",
              "      <td>1396.5</td>\n",
              "      <td>1429134</td>\n",
              "      <td>204162</td>\n",
              "      <td>31.8</td>\n",
              "      <td>282051</td>\n",
              "      <td>0.716912</td>\n",
              "      <td>0.028082</td>\n",
              "      <td>0.009995</td>\n",
              "      <td>0.145937</td>\n",
              "      <td>0.004866</td>\n",
              "      <td>0.041896</td>\n",
              "      <td>No Threat</td>\n",
              "    </tr>\n",
              "    <tr>\n",
              "      <th>2721</th>\n",
              "      <td>Yuba</td>\n",
              "      <td>36</td>\n",
              "      <td>7.2</td>\n",
              "      <td>1824</td>\n",
              "      <td>261</td>\n",
              "      <td>97.20%</td>\n",
              "      <td>794.5</td>\n",
              "      <td>511413</td>\n",
              "      <td>73059</td>\n",
              "      <td>33.7</td>\n",
              "      <td>262479</td>\n",
              "      <td>0.795444</td>\n",
              "      <td>0.034029</td>\n",
              "      <td>0.006280</td>\n",
              "      <td>0.053834</td>\n",
              "      <td>0.008199</td>\n",
              "      <td>0.023364</td>\n",
              "      <td>No Threat</td>\n",
              "    </tr>\n",
              "  </tbody>\n",
              "</table>\n",
              "<p>2722 rows × 18 columns</p>\n",
              "</div>"
            ],
            "text/plain": [
              "            county  ...    Hotspot\n",
              "0          Alameda  ...  No Threat\n",
              "1            Butte  ...  No Threat\n",
              "2        Calaveras  ...  No Threat\n",
              "3           Colusa  ...  No Threat\n",
              "4     Contra Costa  ...  No Threat\n",
              "...            ...  ...        ...\n",
              "2717        Tulare  ...  No Threat\n",
              "2718      Tuolumne  ...  No Threat\n",
              "2719       Ventura  ...  No Threat\n",
              "2720          Yolo  ...  No Threat\n",
              "2721          Yuba  ...  No Threat\n",
              "\n",
              "[2722 rows x 18 columns]"
            ]
          },
          "metadata": {
            "tags": []
          },
          "execution_count": 2
        }
      ]
    },
    {
      "cell_type": "code",
      "metadata": {
        "id": "z0D0di29dZRK"
      },
      "source": [
        "\n"
      ],
      "execution_count": null,
      "outputs": []
    },
    {
      "cell_type": "markdown",
      "metadata": {
        "id": "5G1I3TrZoK10"
      },
      "source": [
        "## Descriptive Stats"
      ]
    },
    {
      "cell_type": "code",
      "metadata": {
        "id": "cwXB-KkpKyjR",
        "colab": {
          "base_uri": "https://localhost:8080/",
          "height": 797
        },
        "outputId": "9d63f67f-3481-47e6-82ff-86cbc3045218"
      },
      "source": [
        "#inspect df\n",
        "df.info()\n",
        "#columns contain dtypes: int, float, and objects\n",
        "df.isnull().sum()\n",
        "#no null values\n",
        "df.head()"
      ],
      "execution_count": null,
      "outputs": [
        {
          "output_type": "stream",
          "text": [
            "<class 'pandas.core.frame.DataFrame'>\n",
            "RangeIndex: 2722 entries, 0 to 2721\n",
            "Data columns (total 18 columns):\n",
            " #   Column                                Non-Null Count  Dtype  \n",
            "---  ------                                --------------  -----  \n",
            " 0   county                                2722 non-null   object \n",
            " 1   Sum of Reported Cases                 2722 non-null   int64  \n",
            " 2   Critical_Cases_(Requiring_Bed)        2722 non-null   float64\n",
            " 3   Sum of all_hospital_beds              2722 non-null   int64  \n",
            " 4   Beds_per_day                          2722 non-null   int64  \n",
            " 5   Percent_Beds_Avail                    2722 non-null   object \n",
            " 6   Sum of Pop_density                    2722 non-null   float64\n",
            " 7   Sum of Population                     2722 non-null   int64  \n",
            " 8   Total_Population                      2722 non-null   int64  \n",
            " 9   Average of Median_age                 2722 non-null   float64\n",
            " 10  Sum of Per Capita Income              2722 non-null   int64  \n",
            " 11  Average of White % of Pop             2722 non-null   float64\n",
            " 12  Average of Black %. Of Pop            2722 non-null   float64\n",
            " 13  Average of Indian Native % of Pop     2722 non-null   float64\n",
            " 14  Average of Asian % of Pop             2722 non-null   float64\n",
            " 15  Average of Hawaiian Pacific Islander  2722 non-null   float64\n",
            " 16  Average of Other Race % of Pop        2722 non-null   float64\n",
            " 17  Hotspot                               2722 non-null   object \n",
            "dtypes: float64(9), int64(6), object(3)\n",
            "memory usage: 382.9+ KB\n"
          ],
          "name": "stdout"
        },
        {
          "output_type": "execute_result",
          "data": {
            "text/html": [
              "<div>\n",
              "<style scoped>\n",
              "    .dataframe tbody tr th:only-of-type {\n",
              "        vertical-align: middle;\n",
              "    }\n",
              "\n",
              "    .dataframe tbody tr th {\n",
              "        vertical-align: top;\n",
              "    }\n",
              "\n",
              "    .dataframe thead th {\n",
              "        text-align: right;\n",
              "    }\n",
              "</style>\n",
              "<table border=\"1\" class=\"dataframe\">\n",
              "  <thead>\n",
              "    <tr style=\"text-align: right;\">\n",
              "      <th></th>\n",
              "      <th>county</th>\n",
              "      <th>Sum of Reported Cases</th>\n",
              "      <th>Critical_Cases_(Requiring_Bed)</th>\n",
              "      <th>Sum of all_hospital_beds</th>\n",
              "      <th>Beds_per_day</th>\n",
              "      <th>Percent_Beds_Avail</th>\n",
              "      <th>Sum of Pop_density</th>\n",
              "      <th>Sum of Population</th>\n",
              "      <th>Total_Population</th>\n",
              "      <th>Average of Median_age</th>\n",
              "      <th>Sum of Per Capita Income</th>\n",
              "      <th>Average of White % of Pop</th>\n",
              "      <th>Average of Black %. Of Pop</th>\n",
              "      <th>Average of Indian Native % of Pop</th>\n",
              "      <th>Average of Asian % of Pop</th>\n",
              "      <th>Average of Hawaiian Pacific Islander</th>\n",
              "      <th>Average of Other Race % of Pop</th>\n",
              "      <th>Hotspot</th>\n",
              "    </tr>\n",
              "  </thead>\n",
              "  <tbody>\n",
              "    <tr>\n",
              "      <th>0</th>\n",
              "      <td>Alameda</td>\n",
              "      <td>311</td>\n",
              "      <td>62.2</td>\n",
              "      <td>5736</td>\n",
              "      <td>819</td>\n",
              "      <td>92.40%</td>\n",
              "      <td>13289.5</td>\n",
              "      <td>10915156</td>\n",
              "      <td>1559308</td>\n",
              "      <td>38.0</td>\n",
              "      <td>362089</td>\n",
              "      <td>0.388439</td>\n",
              "      <td>0.106649</td>\n",
              "      <td>0.007568</td>\n",
              "      <td>0.311317</td>\n",
              "      <td>0.008079</td>\n",
              "      <td>0.114477</td>\n",
              "      <td>No Threat</td>\n",
              "    </tr>\n",
              "    <tr>\n",
              "      <th>1</th>\n",
              "      <td>Butte</td>\n",
              "      <td>1</td>\n",
              "      <td>0.2</td>\n",
              "      <td>2120</td>\n",
              "      <td>303</td>\n",
              "      <td>99.90%</td>\n",
              "      <td>924.7</td>\n",
              "      <td>1551046</td>\n",
              "      <td>221578</td>\n",
              "      <td>36.9</td>\n",
              "      <td>362089</td>\n",
              "      <td>0.801899</td>\n",
              "      <td>0.018176</td>\n",
              "      <td>0.010644</td>\n",
              "      <td>0.047289</td>\n",
              "      <td>0.003641</td>\n",
              "      <td>0.055989</td>\n",
              "      <td>No Threat</td>\n",
              "    </tr>\n",
              "    <tr>\n",
              "      <th>2</th>\n",
              "      <td>Calaveras</td>\n",
              "      <td>0</td>\n",
              "      <td>0.0</td>\n",
              "      <td>250</td>\n",
              "      <td>36</td>\n",
              "      <td>100.00%</td>\n",
              "      <td>303.1</td>\n",
              "      <td>314447</td>\n",
              "      <td>44921</td>\n",
              "      <td>52.0</td>\n",
              "      <td>239750</td>\n",
              "      <td>0.854993</td>\n",
              "      <td>0.018039</td>\n",
              "      <td>0.012274</td>\n",
              "      <td>0.038999</td>\n",
              "      <td>0.000894</td>\n",
              "      <td>0.039882</td>\n",
              "      <td>No Threat</td>\n",
              "    </tr>\n",
              "    <tr>\n",
              "      <th>3</th>\n",
              "      <td>Colusa</td>\n",
              "      <td>0</td>\n",
              "      <td>0.0</td>\n",
              "      <td>400</td>\n",
              "      <td>57</td>\n",
              "      <td>100.00%</td>\n",
              "      <td>129.5</td>\n",
              "      <td>149968</td>\n",
              "      <td>21424</td>\n",
              "      <td>36.4</td>\n",
              "      <td>239750</td>\n",
              "      <td>0.736003</td>\n",
              "      <td>0.024059</td>\n",
              "      <td>0.005917</td>\n",
              "      <td>0.083866</td>\n",
              "      <td>0.001967</td>\n",
              "      <td>0.106023</td>\n",
              "      <td>No Threat</td>\n",
              "    </tr>\n",
              "    <tr>\n",
              "      <th>4</th>\n",
              "      <td>Contra Costa</td>\n",
              "      <td>100</td>\n",
              "      <td>20.0</td>\n",
              "      <td>5594</td>\n",
              "      <td>799</td>\n",
              "      <td>97.50%</td>\n",
              "      <td>9416.4</td>\n",
              "      <td>7568624</td>\n",
              "      <td>1081232</td>\n",
              "      <td>40.0</td>\n",
              "      <td>239750</td>\n",
              "      <td>0.520561</td>\n",
              "      <td>0.088069</td>\n",
              "      <td>0.005083</td>\n",
              "      <td>0.178033</td>\n",
              "      <td>0.004009</td>\n",
              "      <td>0.140747</td>\n",
              "      <td>No Threat</td>\n",
              "    </tr>\n",
              "  </tbody>\n",
              "</table>\n",
              "</div>"
            ],
            "text/plain": [
              "         county  ...    Hotspot\n",
              "0       Alameda  ...  No Threat\n",
              "1         Butte  ...  No Threat\n",
              "2     Calaveras  ...  No Threat\n",
              "3        Colusa  ...  No Threat\n",
              "4  Contra Costa  ...  No Threat\n",
              "\n",
              "[5 rows x 18 columns]"
            ]
          },
          "metadata": {
            "tags": []
          },
          "execution_count": 3
        }
      ]
    },
    {
      "cell_type": "markdown",
      "metadata": {
        "id": "xLyDMtQHn-Zl"
      },
      "source": [
        "# Exploratory Data Analysis"
      ]
    },
    {
      "cell_type": "code",
      "metadata": {
        "colab": {
          "base_uri": "https://localhost:8080/",
          "height": 294
        },
        "id": "ZucarlZgoMRK",
        "outputId": "04d627a1-baa2-49ca-93fb-88f60702aa0c"
      },
      "source": [
        "# Most populated counties\n",
        "\n",
        "county_population = df.groupby('county')['Total_Population'].mean()\n",
        "county_population = county_population.sort_values(ascending=False)\n",
        "county_population_head = county_population.head()\n",
        "county_population_tail = county_population.tail()\n",
        "plt.bar(county_population_head.index, county_population_head)\n",
        "plt.xticks(rotation=0)\n",
        "plt.title('Top 5 counties by Population')\n",
        "plt.xlabel('County')\n",
        "plt.ylabel('Population')\n",
        "plt.savefig('top_five.png')\n",
        "plt.show()"
      ],
      "execution_count": null,
      "outputs": [
        {
          "output_type": "display_data",
          "data": {
            "image/png": "[encoded data removed]",
            "text/plain": [
              "<Figure size 432x288 with 1 Axes>"
            ]
          },
          "metadata": {
            "tags": [],
            "needs_background": "light"
          }
        }
      ]
    },
    {
      "cell_type": "code",
      "metadata": {
        "colab": {
          "base_uri": "https://localhost:8080/",
          "height": 294
        },
        "id": "qurS98r7ovV2",
        "outputId": "8b939b53-f89b-46c1-fabe-d59f7d852569"
      },
      "source": [
        "# Least populatied counties\n",
        "county_population = df.groupby('county')['Total_Population'].mean()\n",
        "county_population = county_population.sort_values(ascending=False)\n",
        "\n",
        "county_population_tail = county_population.tail()\n",
        "plt.bar(county_population_tail.index, county_population_tail)\n",
        "plt.xticks(rotation=0)\n",
        "plt.title('Bottom 5 counties by Population')\n",
        "plt.xlabel('County')\n",
        "plt.ylabel('Population')\n",
        "plt.savefig('Least_populated.png')\n",
        "plt.show()"
      ],
      "execution_count": null,
      "outputs": [
        {
          "output_type": "display_data",
          "data": {
            "image/png": "[encoded data removed]",
            "text/plain": [
              "<Figure size 432x288 with 1 Axes>"
            ]
          },
          "metadata": {
            "tags": [],
            "needs_background": "light"
          }
        }
      ]
    },
    {
      "cell_type": "code",
      "metadata": {
        "colab": {
          "base_uri": "https://localhost:8080/"
        },
        "id": "D81cTa6ZoMYk",
        "outputId": "b00b19a1-e3af-4782-e0c6-4ba31abb653d"
      },
      "source": [
        "# Descriptive Stats Info\n",
        "df_avg = df.mean()\n",
        "avg_white = df['Average of White % of Pop'].mean()\n",
        "avg_black = df['Average of Black %. Of Pop'].mean()\n",
        "avg_indian = df['Average of Indian Native % of Pop'].mean()\n",
        "avg_asian = df['Average of Asian % of Pop'].mean()\n",
        "avg_hawaiian = df['Average of Hawaiian Pacific Islander'].mean()\n",
        "\n",
        "print('white population:    ',avg_white*100)\n",
        "print('black population:    ',avg_black*100)\n",
        "print('indian population:   ',avg_indian*100)\n",
        "print('asian population:    ',avg_asian*100)\n",
        "print('hawaiian population: ',avg_hawaiian*100)"
      ],
      "execution_count": null,
      "outputs": [
        {
          "output_type": "stream",
          "text": [
            "white population:     72.6581103769292\n",
            "black population:     3.128904779537088\n",
            "indian population:    1.1877131873254907\n",
            "asian population:     8.817466282108805\n",
            "hawaiian population:  0.3136026935341694\n"
          ],
          "name": "stdout"
        }
      ]
    },
    {
      "cell_type": "code",
      "metadata": {
        "colab": {
          "base_uri": "https://localhost:8080/"
        },
        "id": "65EHzJ9JoMge",
        "outputId": "08e6c153-6b74-4760-f423-400cd7ce670c"
      },
      "source": [
        "# Number of Unique Counties\n",
        "len(df.county.unique())"
      ],
      "execution_count": null,
      "outputs": [
        {
          "output_type": "execute_result",
          "data": {
            "text/plain": [
              "56"
            ]
          },
          "metadata": {
            "tags": []
          },
          "execution_count": 7
        }
      ]
    },
    {
      "cell_type": "code",
      "metadata": {
        "colab": {
          "base_uri": "https://localhost:8080/"
        },
        "id": "3v8vGqzVs402",
        "outputId": "5ef5d0a5-b3bc-4cbb-a91b-c9c6b7e80cae"
      },
      "source": [
        "# Average age \n",
        "df['Average of Median_age'].mean()"
      ],
      "execution_count": null,
      "outputs": [
        {
          "output_type": "execute_result",
          "data": {
            "text/plain": [
              "39.097538574577236"
            ]
          },
          "metadata": {
            "tags": []
          },
          "execution_count": 8
        }
      ]
    },
    {
      "cell_type": "code",
      "metadata": {
        "colab": {
          "base_uri": "https://localhost:8080/",
          "height": 298
        },
        "id": "QyK-GLrOcjv0",
        "outputId": "cd63540a-31d3-472a-d1d8-a11db67624fc"
      },
      "source": [
        "# Smallest populatied counties\n",
        "county_pop_density = df.groupby('county')['Sum of Pop_density'].mean()\n",
        "county_pop_density = county_pop_density.sort_values(ascending=False)\n",
        "county_pop_density = county_pop_density/7\n",
        "\n",
        "county_pop_density = county_pop_density.head()\n",
        "plt.bar(county_pop_density.index, county_pop_density, color='c')\n",
        "plt.xticks(rotation=0)\n",
        "plt.title('Top 5 Counties - Population Density', fontweight=\"bold\",fontsize=15)\n",
        "plt.xlabel('County',fontsize=13)\n",
        "plt.ylabel('Population Desnity (Sq/Mi)',fontsize=13)\n",
        "plt.savefig('Pop_Dens.png')\n",
        "plt.show()"
      ],
      "execution_count": null,
      "outputs": [
        {
          "output_type": "display_data",
          "data": {
            "image/png": "[encoded data removed]",
            "text/plain": [
              "<Figure size 432x288 with 1 Axes>"
            ]
          },
          "metadata": {
            "tags": [],
            "needs_background": "light"
          }
        }
      ]
    },
    {
      "cell_type": "markdown",
      "metadata": {
        "id": "1f9kv_qsszpk"
      },
      "source": [
        "# Model Creation"
      ]
    },
    {
      "cell_type": "markdown",
      "metadata": {
        "id": "sXUX1-boWHEa"
      },
      "source": [
        "# Logistic Regression Model"
      ]
    },
    {
      "cell_type": "code",
      "metadata": {
        "id": "b2raFSdlNRSQ",
        "colab": {
          "base_uri": "https://localhost:8080/",
          "height": 612
        },
        "outputId": "ae20e4ce-e84b-4e57-d811-b553c161ac09"
      },
      "source": [
        "#Create Random Sample to account for Class Imbalance Issue\n",
        "y = (df.Hotspot == 'Hotspot').astype(int)\n",
        "df['Hotspot_dummy'] = y\n",
        "df.Hotspot_dummy.value_counts()\n",
        "\n",
        "#create test set (30% of data) and training set (70% of data)\n",
        "from sklearn.model_selection import train_test_split\n",
        "df_logit = df\n",
        "\n",
        "df_logit_x = df_logit[df_logit['Hotspot_dummy'] == 0]\n",
        "\n",
        "df_logit_x = df_logit_x.sample(710)\n",
        "\n",
        "df_logit_x\n",
        "\n",
        "df_logit_y = df\n",
        "\n",
        "df_logit_y = df_logit[df_logit['Hotspot_dummy'] == 1]\n",
        "\n",
        "df_logit_y\n",
        "\n",
        "\n",
        "\n",
        "df_logit_regression = pd.concat([df_logit_x, df_logit_y])\n",
        "\n",
        "df_logit_regression\n"
      ],
      "execution_count": null,
      "outputs": [
        {
          "output_type": "execute_result",
          "data": {
            "text/html": [
              "<div>\n",
              "<style scoped>\n",
              "    .dataframe tbody tr th:only-of-type {\n",
              "        vertical-align: middle;\n",
              "    }\n",
              "\n",
              "    .dataframe tbody tr th {\n",
              "        vertical-align: top;\n",
              "    }\n",
              "\n",
              "    .dataframe thead th {\n",
              "        text-align: right;\n",
              "    }\n",
              "</style>\n",
              "<table border=\"1\" class=\"dataframe\">\n",
              "  <thead>\n",
              "    <tr style=\"text-align: right;\">\n",
              "      <th></th>\n",
              "      <th>county</th>\n",
              "      <th>Sum of Reported Cases</th>\n",
              "      <th>Critical_Cases_(Requiring_Bed)</th>\n",
              "      <th>Sum of all_hospital_beds</th>\n",
              "      <th>Beds_per_day</th>\n",
              "      <th>Percent_Beds_Avail</th>\n",
              "      <th>Sum of Pop_density</th>\n",
              "      <th>Sum of Population</th>\n",
              "      <th>Total_Population</th>\n",
              "      <th>Average of Median_age</th>\n",
              "      <th>Sum of Per Capita Income</th>\n",
              "      <th>Average of White % of Pop</th>\n",
              "      <th>Average of Black %. Of Pop</th>\n",
              "      <th>Average of Indian Native % of Pop</th>\n",
              "      <th>Average of Asian % of Pop</th>\n",
              "      <th>Average of Hawaiian Pacific Islander</th>\n",
              "      <th>Average of Other Race % of Pop</th>\n",
              "      <th>Hotspot</th>\n",
              "      <th>Hotspot_dummy</th>\n",
              "    </tr>\n",
              "  </thead>\n",
              "  <tbody>\n",
              "    <tr>\n",
              "      <th>2404</th>\n",
              "      <td>Madera</td>\n",
              "      <td>221</td>\n",
              "      <td>44.2</td>\n",
              "      <td>1941</td>\n",
              "      <td>277</td>\n",
              "      <td>84.10%</td>\n",
              "      <td>495.6</td>\n",
              "      <td>1067164</td>\n",
              "      <td>152452</td>\n",
              "      <td>34.7</td>\n",
              "      <td>252308</td>\n",
              "      <td>0.680576</td>\n",
              "      <td>0.026302</td>\n",
              "      <td>0.011505</td>\n",
              "      <td>0.024395</td>\n",
              "      <td>0.007189</td>\n",
              "      <td>0.225664</td>\n",
              "      <td>No Threat</td>\n",
              "      <td>0</td>\n",
              "    </tr>\n",
              "    <tr>\n",
              "      <th>500</th>\n",
              "      <td>El Dorado</td>\n",
              "      <td>29</td>\n",
              "      <td>5.8</td>\n",
              "      <td>1645</td>\n",
              "      <td>235</td>\n",
              "      <td>97.50%</td>\n",
              "      <td>711.2</td>\n",
              "      <td>1270255</td>\n",
              "      <td>181465</td>\n",
              "      <td>45.9</td>\n",
              "      <td>364147</td>\n",
              "      <td>0.866046</td>\n",
              "      <td>0.008525</td>\n",
              "      <td>0.013171</td>\n",
              "      <td>0.052447</td>\n",
              "      <td>0.000648</td>\n",
              "      <td>0.025124</td>\n",
              "      <td>No Threat</td>\n",
              "      <td>0</td>\n",
              "    </tr>\n",
              "    <tr>\n",
              "      <th>1245</th>\n",
              "      <td>Sacramento</td>\n",
              "      <td>972</td>\n",
              "      <td>194.4</td>\n",
              "      <td>17353</td>\n",
              "      <td>2479</td>\n",
              "      <td>92.20%</td>\n",
              "      <td>10213.0</td>\n",
              "      <td>10151939</td>\n",
              "      <td>1450277</td>\n",
              "      <td>36.6</td>\n",
              "      <td>212681</td>\n",
              "      <td>0.553688</td>\n",
              "      <td>0.095898</td>\n",
              "      <td>0.007090</td>\n",
              "      <td>0.161615</td>\n",
              "      <td>0.012340</td>\n",
              "      <td>0.089381</td>\n",
              "      <td>No Threat</td>\n",
              "      <td>0</td>\n",
              "    </tr>\n",
              "    <tr>\n",
              "      <th>1430</th>\n",
              "      <td>Tuolumne</td>\n",
              "      <td>8</td>\n",
              "      <td>1.6</td>\n",
              "      <td>588</td>\n",
              "      <td>84</td>\n",
              "      <td>98.10%</td>\n",
              "      <td>167.3</td>\n",
              "      <td>380429</td>\n",
              "      <td>54347</td>\n",
              "      <td>34.0</td>\n",
              "      <td>161672</td>\n",
              "      <td>0.854993</td>\n",
              "      <td>0.018039</td>\n",
              "      <td>0.012274</td>\n",
              "      <td>0.038999</td>\n",
              "      <td>0.000894</td>\n",
              "      <td>0.039882</td>\n",
              "      <td>No Threat</td>\n",
              "      <td>0</td>\n",
              "    </tr>\n",
              "    <tr>\n",
              "      <th>1294</th>\n",
              "      <td>Napa</td>\n",
              "      <td>71</td>\n",
              "      <td>14.2</td>\n",
              "      <td>2020</td>\n",
              "      <td>289</td>\n",
              "      <td>95.10%</td>\n",
              "      <td>1236.2</td>\n",
              "      <td>974771</td>\n",
              "      <td>139253</td>\n",
              "      <td>41.6</td>\n",
              "      <td>334103</td>\n",
              "      <td>0.736003</td>\n",
              "      <td>0.024059</td>\n",
              "      <td>0.005917</td>\n",
              "      <td>0.083866</td>\n",
              "      <td>0.001967</td>\n",
              "      <td>0.106023</td>\n",
              "      <td>No Threat</td>\n",
              "      <td>0</td>\n",
              "    </tr>\n",
              "    <tr>\n",
              "      <th>...</th>\n",
              "      <td>...</td>\n",
              "      <td>...</td>\n",
              "      <td>...</td>\n",
              "      <td>...</td>\n",
              "      <td>...</td>\n",
              "      <td>...</td>\n",
              "      <td>...</td>\n",
              "      <td>...</td>\n",
              "      <td>...</td>\n",
              "      <td>...</td>\n",
              "      <td>...</td>\n",
              "      <td>...</td>\n",
              "      <td>...</td>\n",
              "      <td>...</td>\n",
              "      <td>...</td>\n",
              "      <td>...</td>\n",
              "      <td>...</td>\n",
              "      <td>...</td>\n",
              "      <td>...</td>\n",
              "    </tr>\n",
              "    <tr>\n",
              "      <th>2624</th>\n",
              "      <td>Kings</td>\n",
              "      <td>150</td>\n",
              "      <td>30.0</td>\n",
              "      <td>828</td>\n",
              "      <td>118</td>\n",
              "      <td>74.60%</td>\n",
              "      <td>761.6</td>\n",
              "      <td>1059730</td>\n",
              "      <td>151390</td>\n",
              "      <td>31.8</td>\n",
              "      <td>171668</td>\n",
              "      <td>0.752766</td>\n",
              "      <td>0.056460</td>\n",
              "      <td>0.018334</td>\n",
              "      <td>0.033373</td>\n",
              "      <td>0.003008</td>\n",
              "      <td>0.090493</td>\n",
              "      <td>Hotspot</td>\n",
              "      <td>1</td>\n",
              "    </tr>\n",
              "    <tr>\n",
              "      <th>2634</th>\n",
              "      <td>Mono</td>\n",
              "      <td>49</td>\n",
              "      <td>9.8</td>\n",
              "      <td>119</td>\n",
              "      <td>17</td>\n",
              "      <td>42.40%</td>\n",
              "      <td>31.5</td>\n",
              "      <td>99351</td>\n",
              "      <td>14193</td>\n",
              "      <td>37.7</td>\n",
              "      <td>172928</td>\n",
              "      <td>0.680007</td>\n",
              "      <td>0.018490</td>\n",
              "      <td>0.009343</td>\n",
              "      <td>0.164534</td>\n",
              "      <td>0.001897</td>\n",
              "      <td>0.050407</td>\n",
              "      <td>Hotspot</td>\n",
              "      <td>1</td>\n",
              "    </tr>\n",
              "    <tr>\n",
              "      <th>2647</th>\n",
              "      <td>San Joaquin</td>\n",
              "      <td>1182</td>\n",
              "      <td>236.4</td>\n",
              "      <td>6224</td>\n",
              "      <td>889</td>\n",
              "      <td>73.40%</td>\n",
              "      <td>3439.8</td>\n",
              "      <td>4907350</td>\n",
              "      <td>701050</td>\n",
              "      <td>34.7</td>\n",
              "      <td>525588</td>\n",
              "      <td>0.565985</td>\n",
              "      <td>0.068875</td>\n",
              "      <td>0.006339</td>\n",
              "      <td>0.161504</td>\n",
              "      <td>0.006926</td>\n",
              "      <td>0.073180</td>\n",
              "      <td>Hotspot</td>\n",
              "      <td>1</td>\n",
              "    </tr>\n",
              "    <tr>\n",
              "      <th>2658</th>\n",
              "      <td>Sutter</td>\n",
              "      <td>66</td>\n",
              "      <td>13.2</td>\n",
              "      <td>98</td>\n",
              "      <td>14</td>\n",
              "      <td>5.70%</td>\n",
              "      <td>1093.4</td>\n",
              "      <td>665469</td>\n",
              "      <td>95067</td>\n",
              "      <td>36.2</td>\n",
              "      <td>186802</td>\n",
              "      <td>0.680007</td>\n",
              "      <td>0.018490</td>\n",
              "      <td>0.009343</td>\n",
              "      <td>0.164534</td>\n",
              "      <td>0.001897</td>\n",
              "      <td>0.050407</td>\n",
              "      <td>Hotspot</td>\n",
              "      <td>1</td>\n",
              "    </tr>\n",
              "    <tr>\n",
              "      <th>2714</th>\n",
              "      <td>Sutter</td>\n",
              "      <td>79</td>\n",
              "      <td>15.8</td>\n",
              "      <td>98</td>\n",
              "      <td>14</td>\n",
              "      <td>-12.90%</td>\n",
              "      <td>1093.4</td>\n",
              "      <td>665469</td>\n",
              "      <td>95067</td>\n",
              "      <td>36.2</td>\n",
              "      <td>186802</td>\n",
              "      <td>0.680007</td>\n",
              "      <td>0.018490</td>\n",
              "      <td>0.009343</td>\n",
              "      <td>0.164534</td>\n",
              "      <td>0.001897</td>\n",
              "      <td>0.050407</td>\n",
              "      <td>Hotspot</td>\n",
              "      <td>1</td>\n",
              "    </tr>\n",
              "  </tbody>\n",
              "</table>\n",
              "<p>1420 rows × 19 columns</p>\n",
              "</div>"
            ],
            "text/plain": [
              "           county  Sum of Reported Cases  ...    Hotspot  Hotspot_dummy\n",
              "2404       Madera                    221  ...  No Threat              0\n",
              "500     El Dorado                     29  ...  No Threat              0\n",
              "1245   Sacramento                    972  ...  No Threat              0\n",
              "1430     Tuolumne                      8  ...  No Threat              0\n",
              "1294         Napa                     71  ...  No Threat              0\n",
              "...           ...                    ...  ...        ...            ...\n",
              "2624        Kings                    150  ...    Hotspot              1\n",
              "2634         Mono                     49  ...    Hotspot              1\n",
              "2647  San Joaquin                   1182  ...    Hotspot              1\n",
              "2658       Sutter                     66  ...    Hotspot              1\n",
              "2714       Sutter                     79  ...    Hotspot              1\n",
              "\n",
              "[1420 rows x 19 columns]"
            ]
          },
          "metadata": {
            "tags": []
          },
          "execution_count": 10
        }
      ]
    },
    {
      "cell_type": "code",
      "metadata": {
        "id": "uqTnNV6wL5r5"
      },
      "source": [
        "#split data into X and y variables based on newly encoded Hotspot_Dummy\n",
        "y = df_logit_regression['Hotspot_dummy']\n",
        "X = df_logit_regression[['Sum of Pop_density', 'Total_Population', 'Average of Median_age', 'Sum of Per Capita Income', 'Average of White % of Pop', 'Average of Black %. Of Pop', 'Average of Indian Native % of Pop', 'Average of Asian % of Pop', 'Average of Hawaiian Pacific Islander', 'Average of Other Race % of Pop']]"
      ],
      "execution_count": null,
      "outputs": []
    },
    {
      "cell_type": "code",
      "metadata": {
        "colab": {
          "base_uri": "https://localhost:8080/"
        },
        "id": "UPX-hNWVMRFQ",
        "outputId": "328f6863-5d06-4483-d7a0-369af58ab924"
      },
      "source": [
        "#create test set (30% of data) and training set (70% of data)\n",
        "from sklearn.model_selection import train_test_split\n",
        "X_train, X_test, Y_train, Y_test = train_test_split(X, y, test_size=0.3, train_size = 0.7)\n",
        "y.to_numpy() #transform series into array"
      ],
      "execution_count": null,
      "outputs": [
        {
          "output_type": "execute_result",
          "data": {
            "text/plain": [
              "array([0, 0, 0, ..., 1, 1, 1])"
            ]
          },
          "metadata": {
            "tags": []
          },
          "execution_count": 12
        }
      ]
    },
    {
      "cell_type": "code",
      "metadata": {
        "id": "o7FGM8OTWI6g"
      },
      "source": [
        "#Train model using Logistic Regression Classifier\n",
        "clf = linear_model.LogisticRegression(C=1.0, solver='liblinear', random_state=99)\n",
        "model2 = clf.fit(X_train, Y_train)\n",
        "#make prediction\n",
        "y_pred2 = clf.predict(X_test)"
      ],
      "execution_count": null,
      "outputs": []
    },
    {
      "cell_type": "code",
      "metadata": {
        "id": "SJZLRMNmWwlS",
        "colab": {
          "base_uri": "https://localhost:8080/"
        },
        "outputId": "0cbe7305-ce4c-4b4a-9266-0370447f60af"
      },
      "source": [
        "#Accuracy \n",
        "print(metrics.accuracy_score(Y_test, y_pred2))\n",
        "\n",
        "#Precision\n",
        "print(metrics.precision_score(Y_test, y_pred2, pos_label=1))\n",
        "\n",
        "#Recall\n",
        "print(metrics.recall_score(Y_test, y_pred2, pos_label=1))\n",
        "\n",
        "#F1 Score\n",
        "print(metrics.f1_score(Y_test, y_pred2, pos_label=1))\n",
        "\n",
        "#Classification Report\n",
        "print(classification_report(Y_test, y_pred2))\n"
      ],
      "execution_count": null,
      "outputs": [
        {
          "output_type": "stream",
          "text": [
            "0.5023474178403756\n",
            "0.47796610169491527\n",
            "0.7085427135678392\n",
            "0.5708502024291497\n",
            "              precision    recall  f1-score   support\n",
            "\n",
            "           0       0.56      0.32      0.41       227\n",
            "           1       0.48      0.71      0.57       199\n",
            "\n",
            "    accuracy                           0.50       426\n",
            "   macro avg       0.52      0.52      0.49       426\n",
            "weighted avg       0.52      0.50      0.48       426\n",
            "\n"
          ],
          "name": "stdout"
        }
      ]
    },
    {
      "cell_type": "code",
      "metadata": {
        "id": "vkscNUUWyKY5",
        "colab": {
          "base_uri": "https://localhost:8080/",
          "height": 352
        },
        "outputId": "09562b95-c294-4d90-ba32-31ab32b1442c"
      },
      "source": [
        "# Retrieving coefficients\n",
        "# The higher the coefficient, the larger the influence of its corresponding feature on the outcome\n",
        "clf.coef_\n",
        "\n",
        "# Storing coefficients in dictionary with feature names\n",
        "coef_dict = {}\n",
        "for coef, feat in zip(clf.coef_[0,:],X):\n",
        "    coef_dict[feat] = coef\n",
        "\n",
        "# storing result in DataFrame including signs to show positive or negative influence\n",
        "coef = pd.DataFrame.from_dict(coef_dict,orient='index', columns=['coefficient'])\n",
        "coef\n",
        "abs(coef).sort_values(by='coefficient', ascending=False)"
      ],
      "execution_count": null,
      "outputs": [
        {
          "output_type": "execute_result",
          "data": {
            "text/html": [
              "<div>\n",
              "<style scoped>\n",
              "    .dataframe tbody tr th:only-of-type {\n",
              "        vertical-align: middle;\n",
              "    }\n",
              "\n",
              "    .dataframe tbody tr th {\n",
              "        vertical-align: top;\n",
              "    }\n",
              "\n",
              "    .dataframe thead th {\n",
              "        text-align: right;\n",
              "    }\n",
              "</style>\n",
              "<table border=\"1\" class=\"dataframe\">\n",
              "  <thead>\n",
              "    <tr style=\"text-align: right;\">\n",
              "      <th></th>\n",
              "      <th>coefficient</th>\n",
              "    </tr>\n",
              "  </thead>\n",
              "  <tbody>\n",
              "    <tr>\n",
              "      <th>Average of Median_age</th>\n",
              "      <td>2.575637e-04</td>\n",
              "    </tr>\n",
              "    <tr>\n",
              "      <th>Sum of Pop_density</th>\n",
              "      <td>5.278186e-05</td>\n",
              "    </tr>\n",
              "    <tr>\n",
              "      <th>Average of Other Race % of Pop</th>\n",
              "      <td>1.366304e-05</td>\n",
              "    </tr>\n",
              "    <tr>\n",
              "      <th>Average of White % of Pop</th>\n",
              "      <td>7.978913e-06</td>\n",
              "    </tr>\n",
              "    <tr>\n",
              "      <th>Average of Asian % of Pop</th>\n",
              "      <td>6.943503e-06</td>\n",
              "    </tr>\n",
              "    <tr>\n",
              "      <th>Average of Black %. Of Pop</th>\n",
              "      <td>2.793580e-06</td>\n",
              "    </tr>\n",
              "    <tr>\n",
              "      <th>Average of Indian Native % of Pop</th>\n",
              "      <td>5.097479e-07</td>\n",
              "    </tr>\n",
              "    <tr>\n",
              "      <th>Total_Population</th>\n",
              "      <td>1.373572e-07</td>\n",
              "    </tr>\n",
              "    <tr>\n",
              "      <th>Sum of Per Capita Income</th>\n",
              "      <td>9.182764e-08</td>\n",
              "    </tr>\n",
              "    <tr>\n",
              "      <th>Average of Hawaiian Pacific Islander</th>\n",
              "      <td>2.680383e-08</td>\n",
              "    </tr>\n",
              "  </tbody>\n",
              "</table>\n",
              "</div>"
            ],
            "text/plain": [
              "                                       coefficient\n",
              "Average of Median_age                 2.575637e-04\n",
              "Sum of Pop_density                    5.278186e-05\n",
              "Average of Other Race % of Pop        1.366304e-05\n",
              "Average of White % of Pop             7.978913e-06\n",
              "Average of Asian % of Pop             6.943503e-06\n",
              "Average of Black %. Of Pop            2.793580e-06\n",
              "Average of Indian Native % of Pop     5.097479e-07\n",
              "Total_Population                      1.373572e-07\n",
              "Sum of Per Capita Income              9.182764e-08\n",
              "Average of Hawaiian Pacific Islander  2.680383e-08"
            ]
          },
          "metadata": {
            "tags": []
          },
          "execution_count": 15
        }
      ]
    },
    {
      "cell_type": "markdown",
      "metadata": {
        "id": "P0z5csx3YA9_"
      },
      "source": [
        "# Decision Tree Model\n",
        "\n"
      ]
    },
    {
      "cell_type": "code",
      "metadata": {
        "id": "ArjCWM1bb0MG"
      },
      "source": [
        "# Import necessary packages\n",
        "import pandas as pd\n",
        "import numpy as np\n",
        "from sklearn.tree import DecisionTreeClassifier\n",
        "import matplotlib.pyplot as plt\n",
        "from sklearn.metrics import confusion_matrix\n",
        "from sklearn.tree import export_graphviz\n",
        "from sklearn import tree\n",
        "import matplotlib.pyplot as plt\n"
      ],
      "execution_count": null,
      "outputs": []
    },
    {
      "cell_type": "code",
      "metadata": {
        "id": "jybcF9kQbCkB",
        "colab": {
          "base_uri": "https://localhost:8080/",
          "height": 294
        },
        "outputId": "5a6a7439-a06e-4ec0-aeb5-8a14ecfd2079"
      },
      "source": [
        "# Creating Dummy for Hotspot (1,0)\n",
        "y = (df.Hotspot == 'Hotspot').astype(int)\n",
        "\n",
        "# Visualizing Number of Hotspots in Dataset\n",
        "df['Hotspot_dummy'] = y\n",
        "df.Hotspot_dummy.value_counts().index\n",
        "plt.bar(df.Hotspot.value_counts().index,df.Hotspot_dummy.value_counts())\n",
        "plt.xlabel('Risk Classification')\n",
        "plt.ylabel('Number of Counties')\n",
        "plt.title('Imbalance Issue')\n",
        "plt.savefig('imbalanced.png')  \n",
        "plt.show()"
      ],
      "execution_count": null,
      "outputs": [
        {
          "output_type": "display_data",
          "data": {
            "image/png": "[encoded data removed]",
            "text/plain": [
              "<Figure size 432x288 with 1 Axes>"
            ]
          },
          "metadata": {
            "tags": [],
            "needs_background": "light"
          }
        }
      ]
    },
    {
      "cell_type": "code",
      "metadata": {
        "id": "yew-QOFtgian",
        "colab": {
          "base_uri": "https://localhost:8080/",
          "height": 612
        },
        "outputId": "a6c0eeb0-5133-4731-d275-e241b2beeb8c"
      },
      "source": [
        "# Eliminating Class Imbalance Problem\n",
        "\n",
        "df_tree = df\n",
        "df_tree_x = df_tree[df_tree['Hotspot_dummy'] == 0]\n",
        "df_tree_x = df_tree_x.sample(710)\n",
        "df_tree_x\n",
        "\n",
        "df_tree_y = df\n",
        "df_tree_y = df_tree[df_tree['Hotspot_dummy'] == 1]\n",
        "df_tree_y\n",
        "\n",
        "df_decision_tree = pd.concat([df_tree_x, df_tree_y])\n",
        "df_decision_tree"
      ],
      "execution_count": null,
      "outputs": [
        {
          "output_type": "execute_result",
          "data": {
            "text/html": [
              "<div>\n",
              "<style scoped>\n",
              "    .dataframe tbody tr th:only-of-type {\n",
              "        vertical-align: middle;\n",
              "    }\n",
              "\n",
              "    .dataframe tbody tr th {\n",
              "        vertical-align: top;\n",
              "    }\n",
              "\n",
              "    .dataframe thead th {\n",
              "        text-align: right;\n",
              "    }\n",
              "</style>\n",
              "<table border=\"1\" class=\"dataframe\">\n",
              "  <thead>\n",
              "    <tr style=\"text-align: right;\">\n",
              "      <th></th>\n",
              "      <th>county</th>\n",
              "      <th>Sum of Reported Cases</th>\n",
              "      <th>Critical_Cases_(Requiring_Bed)</th>\n",
              "      <th>Sum of all_hospital_beds</th>\n",
              "      <th>Beds_per_day</th>\n",
              "      <th>Percent_Beds_Avail</th>\n",
              "      <th>Sum of Pop_density</th>\n",
              "      <th>Sum of Population</th>\n",
              "      <th>Total_Population</th>\n",
              "      <th>Average of Median_age</th>\n",
              "      <th>Sum of Per Capita Income</th>\n",
              "      <th>Average of White % of Pop</th>\n",
              "      <th>Average of Black %. Of Pop</th>\n",
              "      <th>Average of Indian Native % of Pop</th>\n",
              "      <th>Average of Asian % of Pop</th>\n",
              "      <th>Average of Hawaiian Pacific Islander</th>\n",
              "      <th>Average of Other Race % of Pop</th>\n",
              "      <th>Hotspot</th>\n",
              "      <th>Hotspot_dummy</th>\n",
              "    </tr>\n",
              "  </thead>\n",
              "  <tbody>\n",
              "    <tr>\n",
              "      <th>2469</th>\n",
              "      <td>Nevada</td>\n",
              "      <td>73</td>\n",
              "      <td>14.6</td>\n",
              "      <td>851</td>\n",
              "      <td>122</td>\n",
              "      <td>88.00%</td>\n",
              "      <td>709.1</td>\n",
              "      <td>690242</td>\n",
              "      <td>98606</td>\n",
              "      <td>50.0</td>\n",
              "      <td>334103</td>\n",
              "      <td>0.930600</td>\n",
              "      <td>0.003108</td>\n",
              "      <td>0.004882</td>\n",
              "      <td>0.012461</td>\n",
              "      <td>0.003428</td>\n",
              "      <td>0.003148</td>\n",
              "      <td>No Threat</td>\n",
              "      <td>0</td>\n",
              "    </tr>\n",
              "    <tr>\n",
              "      <th>285</th>\n",
              "      <td>Lassen</td>\n",
              "      <td>4</td>\n",
              "      <td>0.8</td>\n",
              "      <td>175</td>\n",
              "      <td>25</td>\n",
              "      <td>96.80%</td>\n",
              "      <td>49.7</td>\n",
              "      <td>233492</td>\n",
              "      <td>33356</td>\n",
              "      <td>36.6</td>\n",
              "      <td>196392</td>\n",
              "      <td>0.716912</td>\n",
              "      <td>0.028082</td>\n",
              "      <td>0.009995</td>\n",
              "      <td>0.145937</td>\n",
              "      <td>0.004866</td>\n",
              "      <td>0.041896</td>\n",
              "      <td>No Threat</td>\n",
              "      <td>0</td>\n",
              "    </tr>\n",
              "    <tr>\n",
              "      <th>1380</th>\n",
              "      <td>Butte</td>\n",
              "      <td>50</td>\n",
              "      <td>10.0</td>\n",
              "      <td>3157</td>\n",
              "      <td>451</td>\n",
              "      <td>97.80%</td>\n",
              "      <td>924.7</td>\n",
              "      <td>1551046</td>\n",
              "      <td>221578</td>\n",
              "      <td>36.9</td>\n",
              "      <td>362089</td>\n",
              "      <td>0.801899</td>\n",
              "      <td>0.018176</td>\n",
              "      <td>0.010644</td>\n",
              "      <td>0.047289</td>\n",
              "      <td>0.003641</td>\n",
              "      <td>0.055989</td>\n",
              "      <td>No Threat</td>\n",
              "      <td>0</td>\n",
              "    </tr>\n",
              "    <tr>\n",
              "      <th>278</th>\n",
              "      <td>Glenn</td>\n",
              "      <td>4</td>\n",
              "      <td>0.8</td>\n",
              "      <td>235</td>\n",
              "      <td>34</td>\n",
              "      <td>97.60%</td>\n",
              "      <td>147.7</td>\n",
              "      <td>196133</td>\n",
              "      <td>28019</td>\n",
              "      <td>36.4</td>\n",
              "      <td>176820</td>\n",
              "      <td>0.866046</td>\n",
              "      <td>0.008525</td>\n",
              "      <td>0.013171</td>\n",
              "      <td>0.052447</td>\n",
              "      <td>0.000648</td>\n",
              "      <td>0.025124</td>\n",
              "      <td>No Threat</td>\n",
              "      <td>0</td>\n",
              "    </tr>\n",
              "    <tr>\n",
              "      <th>1245</th>\n",
              "      <td>Sacramento</td>\n",
              "      <td>972</td>\n",
              "      <td>194.4</td>\n",
              "      <td>17353</td>\n",
              "      <td>2479</td>\n",
              "      <td>92.20%</td>\n",
              "      <td>10213.0</td>\n",
              "      <td>10151939</td>\n",
              "      <td>1450277</td>\n",
              "      <td>36.6</td>\n",
              "      <td>212681</td>\n",
              "      <td>0.553688</td>\n",
              "      <td>0.095898</td>\n",
              "      <td>0.007090</td>\n",
              "      <td>0.161615</td>\n",
              "      <td>0.012340</td>\n",
              "      <td>0.089381</td>\n",
              "      <td>No Threat</td>\n",
              "      <td>0</td>\n",
              "    </tr>\n",
              "    <tr>\n",
              "      <th>...</th>\n",
              "      <td>...</td>\n",
              "      <td>...</td>\n",
              "      <td>...</td>\n",
              "      <td>...</td>\n",
              "      <td>...</td>\n",
              "      <td>...</td>\n",
              "      <td>...</td>\n",
              "      <td>...</td>\n",
              "      <td>...</td>\n",
              "      <td>...</td>\n",
              "      <td>...</td>\n",
              "      <td>...</td>\n",
              "      <td>...</td>\n",
              "      <td>...</td>\n",
              "      <td>...</td>\n",
              "      <td>...</td>\n",
              "      <td>...</td>\n",
              "      <td>...</td>\n",
              "      <td>...</td>\n",
              "    </tr>\n",
              "    <tr>\n",
              "      <th>2624</th>\n",
              "      <td>Kings</td>\n",
              "      <td>150</td>\n",
              "      <td>30.0</td>\n",
              "      <td>828</td>\n",
              "      <td>118</td>\n",
              "      <td>74.60%</td>\n",
              "      <td>761.6</td>\n",
              "      <td>1059730</td>\n",
              "      <td>151390</td>\n",
              "      <td>31.8</td>\n",
              "      <td>171668</td>\n",
              "      <td>0.752766</td>\n",
              "      <td>0.056460</td>\n",
              "      <td>0.018334</td>\n",
              "      <td>0.033373</td>\n",
              "      <td>0.003008</td>\n",
              "      <td>0.090493</td>\n",
              "      <td>Hotspot</td>\n",
              "      <td>1</td>\n",
              "    </tr>\n",
              "    <tr>\n",
              "      <th>2634</th>\n",
              "      <td>Mono</td>\n",
              "      <td>49</td>\n",
              "      <td>9.8</td>\n",
              "      <td>119</td>\n",
              "      <td>17</td>\n",
              "      <td>42.40%</td>\n",
              "      <td>31.5</td>\n",
              "      <td>99351</td>\n",
              "      <td>14193</td>\n",
              "      <td>37.7</td>\n",
              "      <td>172928</td>\n",
              "      <td>0.680007</td>\n",
              "      <td>0.018490</td>\n",
              "      <td>0.009343</td>\n",
              "      <td>0.164534</td>\n",
              "      <td>0.001897</td>\n",
              "      <td>0.050407</td>\n",
              "      <td>Hotspot</td>\n",
              "      <td>1</td>\n",
              "    </tr>\n",
              "    <tr>\n",
              "      <th>2647</th>\n",
              "      <td>San Joaquin</td>\n",
              "      <td>1182</td>\n",
              "      <td>236.4</td>\n",
              "      <td>6224</td>\n",
              "      <td>889</td>\n",
              "      <td>73.40%</td>\n",
              "      <td>3439.8</td>\n",
              "      <td>4907350</td>\n",
              "      <td>701050</td>\n",
              "      <td>34.7</td>\n",
              "      <td>525588</td>\n",
              "      <td>0.565985</td>\n",
              "      <td>0.068875</td>\n",
              "      <td>0.006339</td>\n",
              "      <td>0.161504</td>\n",
              "      <td>0.006926</td>\n",
              "      <td>0.073180</td>\n",
              "      <td>Hotspot</td>\n",
              "      <td>1</td>\n",
              "    </tr>\n",
              "    <tr>\n",
              "      <th>2658</th>\n",
              "      <td>Sutter</td>\n",
              "      <td>66</td>\n",
              "      <td>13.2</td>\n",
              "      <td>98</td>\n",
              "      <td>14</td>\n",
              "      <td>5.70%</td>\n",
              "      <td>1093.4</td>\n",
              "      <td>665469</td>\n",
              "      <td>95067</td>\n",
              "      <td>36.2</td>\n",
              "      <td>186802</td>\n",
              "      <td>0.680007</td>\n",
              "      <td>0.018490</td>\n",
              "      <td>0.009343</td>\n",
              "      <td>0.164534</td>\n",
              "      <td>0.001897</td>\n",
              "      <td>0.050407</td>\n",
              "      <td>Hotspot</td>\n",
              "      <td>1</td>\n",
              "    </tr>\n",
              "    <tr>\n",
              "      <th>2714</th>\n",
              "      <td>Sutter</td>\n",
              "      <td>79</td>\n",
              "      <td>15.8</td>\n",
              "      <td>98</td>\n",
              "      <td>14</td>\n",
              "      <td>-12.90%</td>\n",
              "      <td>1093.4</td>\n",
              "      <td>665469</td>\n",
              "      <td>95067</td>\n",
              "      <td>36.2</td>\n",
              "      <td>186802</td>\n",
              "      <td>0.680007</td>\n",
              "      <td>0.018490</td>\n",
              "      <td>0.009343</td>\n",
              "      <td>0.164534</td>\n",
              "      <td>0.001897</td>\n",
              "      <td>0.050407</td>\n",
              "      <td>Hotspot</td>\n",
              "      <td>1</td>\n",
              "    </tr>\n",
              "  </tbody>\n",
              "</table>\n",
              "<p>1420 rows × 19 columns</p>\n",
              "</div>"
            ],
            "text/plain": [
              "           county  Sum of Reported Cases  ...    Hotspot  Hotspot_dummy\n",
              "2469       Nevada                     73  ...  No Threat              0\n",
              "285        Lassen                      4  ...  No Threat              0\n",
              "1380        Butte                     50  ...  No Threat              0\n",
              "278         Glenn                      4  ...  No Threat              0\n",
              "1245   Sacramento                    972  ...  No Threat              0\n",
              "...           ...                    ...  ...        ...            ...\n",
              "2624        Kings                    150  ...    Hotspot              1\n",
              "2634         Mono                     49  ...    Hotspot              1\n",
              "2647  San Joaquin                   1182  ...    Hotspot              1\n",
              "2658       Sutter                     66  ...    Hotspot              1\n",
              "2714       Sutter                     79  ...    Hotspot              1\n",
              "\n",
              "[1420 rows x 19 columns]"
            ]
          },
          "metadata": {
            "tags": []
          },
          "execution_count": 18
        }
      ]
    },
    {
      "cell_type": "code",
      "metadata": {
        "id": "oyaUBnRUYAnP",
        "colab": {
          "base_uri": "https://localhost:8080/",
          "height": 444
        },
        "outputId": "93c638e7-5974-491e-8367-10d8fccd07df"
      },
      "source": [
        "# Split Data set in x and y\n",
        "# split data into X and y variables\n",
        "\n",
        "X = df_decision_tree[['Sum of Pop_density', 'Average of Median_age', 'Sum of Per Capita Income', 'Average of White % of Pop', 'Average of Black %. Of Pop', 'Average of Indian Native % of Pop', 'Average of Asian % of Pop', 'Average of Hawaiian Pacific Islander', 'Average of Other Race % of Pop']]\n",
        "y = df_decision_tree['Hotspot_dummy']\n",
        "X"
      ],
      "execution_count": null,
      "outputs": [
        {
          "output_type": "execute_result",
          "data": {
            "text/html": [
              "<div>\n",
              "<style scoped>\n",
              "    .dataframe tbody tr th:only-of-type {\n",
              "        vertical-align: middle;\n",
              "    }\n",
              "\n",
              "    .dataframe tbody tr th {\n",
              "        vertical-align: top;\n",
              "    }\n",
              "\n",
              "    .dataframe thead th {\n",
              "        text-align: right;\n",
              "    }\n",
              "</style>\n",
              "<table border=\"1\" class=\"dataframe\">\n",
              "  <thead>\n",
              "    <tr style=\"text-align: right;\">\n",
              "      <th></th>\n",
              "      <th>Sum of Pop_density</th>\n",
              "      <th>Average of Median_age</th>\n",
              "      <th>Sum of Per Capita Income</th>\n",
              "      <th>Average of White % of Pop</th>\n",
              "      <th>Average of Black %. Of Pop</th>\n",
              "      <th>Average of Indian Native % of Pop</th>\n",
              "      <th>Average of Asian % of Pop</th>\n",
              "      <th>Average of Hawaiian Pacific Islander</th>\n",
              "      <th>Average of Other Race % of Pop</th>\n",
              "    </tr>\n",
              "  </thead>\n",
              "  <tbody>\n",
              "    <tr>\n",
              "      <th>2469</th>\n",
              "      <td>709.1</td>\n",
              "      <td>50.0</td>\n",
              "      <td>334103</td>\n",
              "      <td>0.930600</td>\n",
              "      <td>0.003108</td>\n",
              "      <td>0.004882</td>\n",
              "      <td>0.012461</td>\n",
              "      <td>0.003428</td>\n",
              "      <td>0.003148</td>\n",
              "    </tr>\n",
              "    <tr>\n",
              "      <th>285</th>\n",
              "      <td>49.7</td>\n",
              "      <td>36.6</td>\n",
              "      <td>196392</td>\n",
              "      <td>0.716912</td>\n",
              "      <td>0.028082</td>\n",
              "      <td>0.009995</td>\n",
              "      <td>0.145937</td>\n",
              "      <td>0.004866</td>\n",
              "      <td>0.041896</td>\n",
              "    </tr>\n",
              "    <tr>\n",
              "      <th>1380</th>\n",
              "      <td>924.7</td>\n",
              "      <td>36.9</td>\n",
              "      <td>362089</td>\n",
              "      <td>0.801899</td>\n",
              "      <td>0.018176</td>\n",
              "      <td>0.010644</td>\n",
              "      <td>0.047289</td>\n",
              "      <td>0.003641</td>\n",
              "      <td>0.055989</td>\n",
              "    </tr>\n",
              "    <tr>\n",
              "      <th>278</th>\n",
              "      <td>147.7</td>\n",
              "      <td>36.4</td>\n",
              "      <td>176820</td>\n",
              "      <td>0.866046</td>\n",
              "      <td>0.008525</td>\n",
              "      <td>0.013171</td>\n",
              "      <td>0.052447</td>\n",
              "      <td>0.000648</td>\n",
              "      <td>0.025124</td>\n",
              "    </tr>\n",
              "    <tr>\n",
              "      <th>1245</th>\n",
              "      <td>10213.0</td>\n",
              "      <td>36.6</td>\n",
              "      <td>212681</td>\n",
              "      <td>0.553688</td>\n",
              "      <td>0.095898</td>\n",
              "      <td>0.007090</td>\n",
              "      <td>0.161615</td>\n",
              "      <td>0.012340</td>\n",
              "      <td>0.089381</td>\n",
              "    </tr>\n",
              "    <tr>\n",
              "      <th>...</th>\n",
              "      <td>...</td>\n",
              "      <td>...</td>\n",
              "      <td>...</td>\n",
              "      <td>...</td>\n",
              "      <td>...</td>\n",
              "      <td>...</td>\n",
              "      <td>...</td>\n",
              "      <td>...</td>\n",
              "      <td>...</td>\n",
              "    </tr>\n",
              "    <tr>\n",
              "      <th>2624</th>\n",
              "      <td>761.6</td>\n",
              "      <td>31.8</td>\n",
              "      <td>171668</td>\n",
              "      <td>0.752766</td>\n",
              "      <td>0.056460</td>\n",
              "      <td>0.018334</td>\n",
              "      <td>0.033373</td>\n",
              "      <td>0.003008</td>\n",
              "      <td>0.090493</td>\n",
              "    </tr>\n",
              "    <tr>\n",
              "      <th>2634</th>\n",
              "      <td>31.5</td>\n",
              "      <td>37.7</td>\n",
              "      <td>172928</td>\n",
              "      <td>0.680007</td>\n",
              "      <td>0.018490</td>\n",
              "      <td>0.009343</td>\n",
              "      <td>0.164534</td>\n",
              "      <td>0.001897</td>\n",
              "      <td>0.050407</td>\n",
              "    </tr>\n",
              "    <tr>\n",
              "      <th>2647</th>\n",
              "      <td>3439.8</td>\n",
              "      <td>34.7</td>\n",
              "      <td>525588</td>\n",
              "      <td>0.565985</td>\n",
              "      <td>0.068875</td>\n",
              "      <td>0.006339</td>\n",
              "      <td>0.161504</td>\n",
              "      <td>0.006926</td>\n",
              "      <td>0.073180</td>\n",
              "    </tr>\n",
              "    <tr>\n",
              "      <th>2658</th>\n",
              "      <td>1093.4</td>\n",
              "      <td>36.2</td>\n",
              "      <td>186802</td>\n",
              "      <td>0.680007</td>\n",
              "      <td>0.018490</td>\n",
              "      <td>0.009343</td>\n",
              "      <td>0.164534</td>\n",
              "      <td>0.001897</td>\n",
              "      <td>0.050407</td>\n",
              "    </tr>\n",
              "    <tr>\n",
              "      <th>2714</th>\n",
              "      <td>1093.4</td>\n",
              "      <td>36.2</td>\n",
              "      <td>186802</td>\n",
              "      <td>0.680007</td>\n",
              "      <td>0.018490</td>\n",
              "      <td>0.009343</td>\n",
              "      <td>0.164534</td>\n",
              "      <td>0.001897</td>\n",
              "      <td>0.050407</td>\n",
              "    </tr>\n",
              "  </tbody>\n",
              "</table>\n",
              "<p>1420 rows × 9 columns</p>\n",
              "</div>"
            ],
            "text/plain": [
              "      Sum of Pop_density  ...  Average of Other Race % of Pop\n",
              "2469               709.1  ...                        0.003148\n",
              "285                 49.7  ...                        0.041896\n",
              "1380               924.7  ...                        0.055989\n",
              "278                147.7  ...                        0.025124\n",
              "1245             10213.0  ...                        0.089381\n",
              "...                  ...  ...                             ...\n",
              "2624               761.6  ...                        0.090493\n",
              "2634                31.5  ...                        0.050407\n",
              "2647              3439.8  ...                        0.073180\n",
              "2658              1093.4  ...                        0.050407\n",
              "2714              1093.4  ...                        0.050407\n",
              "\n",
              "[1420 rows x 9 columns]"
            ]
          },
          "metadata": {
            "tags": []
          },
          "execution_count": 19
        }
      ]
    },
    {
      "cell_type": "code",
      "metadata": {
        "id": "8J2BrRPpblfc"
      },
      "source": [
        "# Create Test and Train Datas\n",
        "from sklearn.model_selection import train_test_split\n",
        "X_train, X_test, Y_train, Y_test = train_test_split(X, y, test_size=0.3, train_size = 0.7)"
      ],
      "execution_count": null,
      "outputs": []
    },
    {
      "cell_type": "code",
      "metadata": {
        "id": "it5JzpglpIl-"
      },
      "source": [
        "from sklearn import decomposition, datasets\n",
        "from sklearn import tree\n",
        "from sklearn.pipeline import Pipeline\n",
        "from sklearn.model_selection import GridSearchCV\n",
        "from sklearn.preprocessing import StandardScaler"
      ],
      "execution_count": null,
      "outputs": []
    },
    {
      "cell_type": "code",
      "metadata": {
        "id": "R7Cmcvjh0xDB"
      },
      "source": [
        "std_slc = StandardScaler()\n",
        "pca = decomposition.PCA()\n",
        "dec_tree = tree.DecisionTreeClassifier()"
      ],
      "execution_count": null,
      "outputs": []
    },
    {
      "cell_type": "code",
      "metadata": {
        "id": "-kvLfL7H02Cu"
      },
      "source": [
        "pipe = Pipeline(steps=[('std_slc', std_slc),\n",
        "                               ('pca', pca),\n",
        "                               ('dec_tree', dec_tree)])"
      ],
      "execution_count": null,
      "outputs": []
    },
    {
      "cell_type": "code",
      "metadata": {
        "id": "fRW5GYkQ0UYY"
      },
      "source": [
        "n_components = list(range(1,X.shape[1]+1,1))\n",
        "criterion = ['gini', 'entropy']\n",
        "max_depth = [2,4,6,8,10,12]\n",
        "\n",
        "\n",
        "parameters = dict(pca__n_components=n_components,\n",
        "                  dec_tree__criterion=criterion,\n",
        "                  dec_tree__max_depth=max_depth)"
      ],
      "execution_count": null,
      "outputs": []
    },
    {
      "cell_type": "code",
      "metadata": {
        "id": "8YrqbjSn0lWD",
        "colab": {
          "base_uri": "https://localhost:8080/"
        },
        "outputId": "528b6cc4-94cc-4e46-bd88-e2b51df3d808"
      },
      "source": [
        "clf_GS = GridSearchCV(pipe, parameters)\n",
        "clf_GS.fit(X, y)"
      ],
      "execution_count": null,
      "outputs": [
        {
          "output_type": "execute_result",
          "data": {
            "text/plain": [
              "GridSearchCV(cv=None, error_score=nan,\n",
              "             estimator=Pipeline(memory=None,\n",
              "                                steps=[('std_slc',\n",
              "                                        StandardScaler(copy=True,\n",
              "                                                       with_mean=True,\n",
              "                                                       with_std=True)),\n",
              "                                       ('pca',\n",
              "                                        PCA(copy=True, iterated_power='auto',\n",
              "                                            n_components=None,\n",
              "                                            random_state=None,\n",
              "                                            svd_solver='auto', tol=0.0,\n",
              "                                            whiten=False)),\n",
              "                                       ('dec_tree',\n",
              "                                        DecisionTreeClassifier(ccp_alpha=0.0,\n",
              "                                                               class_weight=None,\n",
              "                                                               criterion='gini',\n",
              "                                                               max_...\n",
              "                                                               min_samples_split=2,\n",
              "                                                               min_weight_fraction_leaf=0.0,\n",
              "                                                               presort='deprecated',\n",
              "                                                               random_state=None,\n",
              "                                                               splitter='best'))],\n",
              "                                verbose=False),\n",
              "             iid='deprecated', n_jobs=None,\n",
              "             param_grid={'dec_tree__criterion': ['gini', 'entropy'],\n",
              "                         'dec_tree__max_depth': [2, 4, 6, 8, 10, 12],\n",
              "                         'pca__n_components': [1, 2, 3, 4, 5, 6, 7, 8, 9]},\n",
              "             pre_dispatch='2*n_jobs', refit=True, return_train_score=False,\n",
              "             scoring=None, verbose=0)"
            ]
          },
          "metadata": {
            "tags": []
          },
          "execution_count": 25
        }
      ]
    },
    {
      "cell_type": "code",
      "metadata": {
        "id": "0e_1wVJW0-5F",
        "colab": {
          "base_uri": "https://localhost:8080/"
        },
        "outputId": "70b6ee89-3ba2-496a-c99a-ca5dd32b1094"
      },
      "source": [
        "print('Best Criterion:', clf_GS.best_estimator_.get_params()['dec_tree__criterion'])\n",
        "print('Best max_depth:', clf_GS.best_estimator_.get_params()['dec_tree__max_depth'])\n",
        "print('Best Number Of Components:', clf_GS.best_estimator_.get_params()['pca__n_components'])\n",
        "print(); print(clf_GS.best_estimator_.get_params()['dec_tree'])"
      ],
      "execution_count": null,
      "outputs": [
        {
          "output_type": "stream",
          "text": [
            "Best Criterion: gini\n",
            "Best max_depth: 8\n",
            "Best Number Of Components: 8\n",
            "\n",
            "DecisionTreeClassifier(ccp_alpha=0.0, class_weight=None, criterion='gini',\n",
            "                       max_depth=8, max_features=None, max_leaf_nodes=None,\n",
            "                       min_impurity_decrease=0.0, min_impurity_split=None,\n",
            "                       min_samples_leaf=1, min_samples_split=2,\n",
            "                       min_weight_fraction_leaf=0.0, presort='deprecated',\n",
            "                       random_state=None, splitter='best')\n"
          ],
          "name": "stdout"
        }
      ]
    },
    {
      "cell_type": "code",
      "metadata": {
        "id": "EdKTzW2kpIpo"
      },
      "source": [
        "# Decision Tree Model with GridSearch Inputs:\n",
        "# Decision Tree Regressor Model\n",
        "tree_model =  DecisionTreeClassifier(ccp_alpha=0.0, class_weight=None, criterion='gini',\n",
        "                       max_depth=6, max_features=None, max_leaf_nodes=None,\n",
        "                       min_impurity_decrease=0.0, min_impurity_split=None,\n",
        "                       min_samples_leaf=1, min_samples_split=2,\n",
        "                       min_weight_fraction_leaf=0.0, presort='deprecated',\n",
        "                       random_state=None, splitter='best')\n",
        "tree_model.fit(X_test, Y_test)\n",
        "y_pred = tree_model.predict(X_test)\n",
        "# tree.plot_tree(tree_model)\n"
      ],
      "execution_count": null,
      "outputs": []
    },
    {
      "cell_type": "code",
      "metadata": {
        "id": "6fmHETRy1Uii",
        "colab": {
          "base_uri": "https://localhost:8080/"
        },
        "outputId": "dfda36f7-e777-4371-f491-ac2c256516e4"
      },
      "source": [
        "# Performance Metrics with Grid Search\n",
        "#Evaluate Model Performance\n",
        "from sklearn import metrics\n",
        "from sklearn.metrics import classification_report\n",
        "\n",
        "print(classification_report(Y_test, y_pred))\n",
        "\n"
      ],
      "execution_count": null,
      "outputs": [
        {
          "output_type": "stream",
          "text": [
            "              precision    recall  f1-score   support\n",
            "\n",
            "           0       0.67      0.71      0.69       209\n",
            "           1       0.71      0.67      0.69       217\n",
            "\n",
            "    accuracy                           0.69       426\n",
            "   macro avg       0.69      0.69      0.69       426\n",
            "weighted avg       0.69      0.69      0.69       426\n",
            "\n"
          ],
          "name": "stdout"
        }
      ]
    },
    {
      "cell_type": "code",
      "metadata": {
        "id": "mNgu5UtrPnMf",
        "colab": {
          "base_uri": "https://localhost:8080/"
        },
        "outputId": "7d53aa66-e4af-4e88-d5d8-1e23cc8eccfb"
      },
      "source": [
        "# Perfromance Scores\n",
        "print('Decision Tree Performance:')\n",
        "print()\n",
        "#Accuracy \n",
        "print('Accuracy:  ', metrics.accuracy_score(Y_test, y_pred))\n",
        "\n",
        "#Precision\n",
        "print('Precision: ',metrics.precision_score(Y_test, y_pred))\n",
        "\n",
        "#Recall\n",
        "print('Recall:    ',metrics.recall_score(Y_test, y_pred))\n",
        "\n",
        "#F1 Score\n",
        "print('F1 Score:  ', metrics.f1_score(Y_test, y_pred))\n",
        "\n"
      ],
      "execution_count": null,
      "outputs": [
        {
          "output_type": "stream",
          "text": [
            "Decision Tree Performance:\n",
            "\n",
            "Accuracy:   0.6901408450704225\n",
            "Precision:  0.7073170731707317\n",
            "Recall:     0.6682027649769585\n",
            "F1 Score:   0.6872037914691944\n"
          ],
          "name": "stdout"
        }
      ]
    },
    {
      "cell_type": "code",
      "metadata": {
        "colab": {
          "base_uri": "https://localhost:8080/",
          "height": 34
        },
        "id": "yEwSirfrZtru",
        "outputId": "e69e29ed-f39f-4015-bce4-c3c4418b16ff"
      },
      "source": [
        "# Exporting Decision Tree\n",
        "from sklearn.datasets import load_iris\n",
        "from sklearn import tree\n",
        "import graphviz\n",
        "\n",
        "tree.export_graphviz(tree_model)\n",
        "\n",
        "dot_data = tree.export_graphviz(tree_model, out_file=None, filled=True, rounded=True) \n",
        "graph = graphviz.Source(dot_data) \n",
        "graph.render(\"6070_final_dec_tree\")\n"
      ],
      "execution_count": null,
      "outputs": [
        {
          "output_type": "execute_result",
          "data": {
            "application/vnd.google.colaboratory.intrinsic+json": {
              "type": "string"
            },
            "text/plain": [
              "'6070_final_dec_tree.pdf'"
            ]
          },
          "metadata": {
            "tags": []
          },
          "execution_count": 59
        }
      ]
    },
    {
      "cell_type": "code",
      "metadata": {
        "id": "Emn3eyE0XcTZ"
      },
      "source": [
        "importance = tree_model.feature_importances_\n",
        "feature_names = ['Sum of Pop_density', 'Average of Median_age', 'Sum of Per Capita Income', 'Average of White % of Pop', 'Average of Black %. Of Pop', 'Average of Indian Native % of Pop', 'Average of Asian % of Pop', 'Average of Hawaiian Pacific Islander', 'Average of Other Race % of Pop']\n",
        "table = pd.DataFrame(index = [feature_names], columns = ['Feature Importance'])"
      ],
      "execution_count": null,
      "outputs": []
    },
    {
      "cell_type": "code",
      "metadata": {
        "id": "qCwS5t2RXe-3",
        "colab": {
          "base_uri": "https://localhost:8080/",
          "height": 322
        },
        "outputId": "82e32179-06c0-4734-eeff-32e9d8c03333"
      },
      "source": [
        "count = 0\n",
        "for x in importance:\n",
        "  table.iloc[count, 0] = x\n",
        "  count = count +1\n",
        "\n",
        "table"
      ],
      "execution_count": null,
      "outputs": [
        {
          "output_type": "execute_result",
          "data": {
            "text/html": [
              "<div>\n",
              "<style scoped>\n",
              "    .dataframe tbody tr th:only-of-type {\n",
              "        vertical-align: middle;\n",
              "    }\n",
              "\n",
              "    .dataframe tbody tr th {\n",
              "        vertical-align: top;\n",
              "    }\n",
              "\n",
              "    .dataframe thead th {\n",
              "        text-align: right;\n",
              "    }\n",
              "</style>\n",
              "<table border=\"1\" class=\"dataframe\">\n",
              "  <thead>\n",
              "    <tr style=\"text-align: right;\">\n",
              "      <th></th>\n",
              "      <th>Feature Importance</th>\n",
              "    </tr>\n",
              "  </thead>\n",
              "  <tbody>\n",
              "    <tr>\n",
              "      <th>Sum of Pop_density</th>\n",
              "      <td>0.0341295</td>\n",
              "    </tr>\n",
              "    <tr>\n",
              "      <th>Average of Median_age</th>\n",
              "      <td>0.570267</td>\n",
              "    </tr>\n",
              "    <tr>\n",
              "      <th>Sum of Per Capita Income</th>\n",
              "      <td>0.0581927</td>\n",
              "    </tr>\n",
              "    <tr>\n",
              "      <th>Average of White % of Pop</th>\n",
              "      <td>0.0512382</td>\n",
              "    </tr>\n",
              "    <tr>\n",
              "      <th>Average of Black %. Of Pop</th>\n",
              "      <td>0</td>\n",
              "    </tr>\n",
              "    <tr>\n",
              "      <th>Average of Indian Native % of Pop</th>\n",
              "      <td>0.116041</td>\n",
              "    </tr>\n",
              "    <tr>\n",
              "      <th>Average of Asian % of Pop</th>\n",
              "      <td>0.145357</td>\n",
              "    </tr>\n",
              "    <tr>\n",
              "      <th>Average of Hawaiian Pacific Islander</th>\n",
              "      <td>0.0174512</td>\n",
              "    </tr>\n",
              "    <tr>\n",
              "      <th>Average of Other Race % of Pop</th>\n",
              "      <td>0.00732321</td>\n",
              "    </tr>\n",
              "  </tbody>\n",
              "</table>\n",
              "</div>"
            ],
            "text/plain": [
              "                                     Feature Importance\n",
              "Sum of Pop_density                            0.0341295\n",
              "Average of Median_age                          0.570267\n",
              "Sum of Per Capita Income                      0.0581927\n",
              "Average of White % of Pop                     0.0512382\n",
              "Average of Black %. Of Pop                            0\n",
              "Average of Indian Native % of Pop              0.116041\n",
              "Average of Asian % of Pop                      0.145357\n",
              "Average of Hawaiian Pacific Islander          0.0174512\n",
              "Average of Other Race % of Pop               0.00732321"
            ]
          },
          "metadata": {
            "tags": []
          },
          "execution_count": 31
        }
      ]
    },
    {
      "cell_type": "code",
      "metadata": {
        "id": "BEikopVMXkVK",
        "colab": {
          "base_uri": "https://localhost:8080/",
          "height": 280
        },
        "outputId": "db8abe68-796f-4f46-86b1-373156e84e00"
      },
      "source": [
        "plt.barh(feature_names, tree_model.feature_importances_)"
      ],
      "execution_count": null,
      "outputs": [
        {
          "output_type": "execute_result",
          "data": {
            "text/plain": [
              "<BarContainer object of 9 artists>"
            ]
          },
          "metadata": {
            "tags": []
          },
          "execution_count": 50
        },
        {
          "output_type": "display_data",
          "data": {
            "image/png": "[encoded data removed]",
            "text/plain": [
              "<Figure size 432x288 with 1 Axes>"
            ]
          },
          "metadata": {
            "tags": [],
            "needs_background": "light"
          }
        }
      ]
    },
    {
      "cell_type": "code",
      "metadata": {
        "id": "WUiwVBt9AtvD",
        "colab": {
          "base_uri": "https://localhost:8080/"
        },
        "outputId": "9d2e19c8-c6f3-4135-892a-805ea53bdcbe"
      },
      "source": [
        "df.info()"
      ],
      "execution_count": null,
      "outputs": [
        {
          "output_type": "stream",
          "text": [
            "<class 'pandas.core.frame.DataFrame'>\n",
            "RangeIndex: 2722 entries, 0 to 2721\n",
            "Data columns (total 19 columns):\n",
            " #   Column                                Non-Null Count  Dtype  \n",
            "---  ------                                --------------  -----  \n",
            " 0   county                                2722 non-null   object \n",
            " 1   Sum of Reported Cases                 2722 non-null   int64  \n",
            " 2   Critical_Cases_(Requiring_Bed)        2722 non-null   float64\n",
            " 3   Sum of all_hospital_beds              2722 non-null   int64  \n",
            " 4   Beds_per_day                          2722 non-null   int64  \n",
            " 5   Percent_Beds_Avail                    2722 non-null   object \n",
            " 6   Sum of Pop_density                    2722 non-null   float64\n",
            " 7   Sum of Population                     2722 non-null   int64  \n",
            " 8   Total_Population                      2722 non-null   int64  \n",
            " 9   Average of Median_age                 2722 non-null   float64\n",
            " 10  Sum of Per Capita Income              2722 non-null   int64  \n",
            " 11  Average of White % of Pop             2722 non-null   float64\n",
            " 12  Average of Black %. Of Pop            2722 non-null   float64\n",
            " 13  Average of Indian Native % of Pop     2722 non-null   float64\n",
            " 14  Average of Asian % of Pop             2722 non-null   float64\n",
            " 15  Average of Hawaiian Pacific Islander  2722 non-null   float64\n",
            " 16  Average of Other Race % of Pop        2722 non-null   float64\n",
            " 17  Hotspot                               2722 non-null   object \n",
            " 18  Hotspot_dummy                         2722 non-null   int64  \n",
            "dtypes: float64(9), int64(7), object(3)\n",
            "memory usage: 404.2+ KB\n"
          ],
          "name": "stdout"
        }
      ]
    },
    {
      "cell_type": "markdown",
      "metadata": {
        "id": "DQOxYY_XgxFT"
      },
      "source": [
        "# Decision Tree Prediciton"
      ]
    },
    {
      "cell_type": "code",
      "metadata": {
        "id": "05CIYTsSe2VB",
        "colab": {
          "base_uri": "https://localhost:8080/"
        },
        "outputId": "0d44a374-1bdc-400f-bf97-c0227065d305"
      },
      "source": [
        "# User Input Parameters:\n",
        "#.   'Sum of Pop_density','Average of Median_age', 'Sum of Per Capita Income', 'Average of White % of Pop', \n",
        "#   'Average of Black %. Of Pop', 'Average of Indian Native % of Pop', 'Average of Asian % of Pop', 'Average of Hawaiian Pacific Islander', 'Average of Other Race % of Pop'\n",
        "\n",
        "user_input = [[2170.7, 47.3, 172088, 0.788595, 0.027269, 0.005927, 0.064379, 0.001055, 0.071724]]\n",
        "\n",
        "#Prediciton\n",
        "y_pred_test= tree_model.predict(user_input)\n",
        "print(y_pred_test)\n",
        "\n",
        "print('This county is predicted to be:')\n",
        "if y_pred_test == 0:\n",
        "  print('No threat')\n",
        "elif y_pred_test == 1:\n",
        "  print('Hotspot')"
      ],
      "execution_count": null,
      "outputs": [
        {
          "output_type": "stream",
          "text": [
            "[0]\n",
            "This county is predicted to be:\n",
            "No threat\n"
          ],
          "name": "stdout"
        }
      ]
    },
    {
      "cell_type": "markdown",
      "metadata": {
        "id": "Fa5Y2nYv3iTt"
      },
      "source": [
        "# KNN Model"
      ]
    },
    {
      "cell_type": "code",
      "metadata": {
        "id": "8jdCCdqO3pIk"
      },
      "source": [
        "#import packages\n",
        "import pandas as pd\n",
        "import numpy as np\n",
        "from sklearn.neighbors import KNeighborsClassifier\n",
        "from sklearn.model_selection import GridSearchCV\n",
        "from sklearn.model_selection import train_test_split"
      ],
      "execution_count": null,
      "outputs": []
    },
    {
      "cell_type": "code",
      "metadata": {
        "id": "wJjjgaMfW0sT",
        "colab": {
          "base_uri": "https://localhost:8080/",
          "height": 385
        },
        "outputId": "1966db6a-c719-4c02-a8f2-0f356a73a894"
      },
      "source": [
        "df = pd.read_csv('County_Hotspot_Data.csv')\n",
        "\n",
        "df.head()"
      ],
      "execution_count": null,
      "outputs": [
        {
          "output_type": "execute_result",
          "data": {
            "text/html": [
              "<div>\n",
              "<style scoped>\n",
              "    .dataframe tbody tr th:only-of-type {\n",
              "        vertical-align: middle;\n",
              "    }\n",
              "\n",
              "    .dataframe tbody tr th {\n",
              "        vertical-align: top;\n",
              "    }\n",
              "\n",
              "    .dataframe thead th {\n",
              "        text-align: right;\n",
              "    }\n",
              "</style>\n",
              "<table border=\"1\" class=\"dataframe\">\n",
              "  <thead>\n",
              "    <tr style=\"text-align: right;\">\n",
              "      <th></th>\n",
              "      <th>county</th>\n",
              "      <th>Sum of Reported Cases</th>\n",
              "      <th>Critical_Cases_(Requiring_Bed)</th>\n",
              "      <th>Sum of all_hospital_beds</th>\n",
              "      <th>Beds_per_day</th>\n",
              "      <th>Percent_Beds_Avail</th>\n",
              "      <th>Sum of Pop_density</th>\n",
              "      <th>Sum of Population</th>\n",
              "      <th>Total_Population</th>\n",
              "      <th>Average of Median_age</th>\n",
              "      <th>Sum of Per Capita Income</th>\n",
              "      <th>Average of White % of Pop</th>\n",
              "      <th>Average of Black %. Of Pop</th>\n",
              "      <th>Average of Indian Native % of Pop</th>\n",
              "      <th>Average of Asian % of Pop</th>\n",
              "      <th>Average of Hawaiian Pacific Islander</th>\n",
              "      <th>Average of Other Race % of Pop</th>\n",
              "      <th>Hotspot</th>\n",
              "    </tr>\n",
              "  </thead>\n",
              "  <tbody>\n",
              "    <tr>\n",
              "      <th>0</th>\n",
              "      <td>Alameda</td>\n",
              "      <td>311</td>\n",
              "      <td>62.2</td>\n",
              "      <td>5736</td>\n",
              "      <td>819</td>\n",
              "      <td>92.40%</td>\n",
              "      <td>13289.5</td>\n",
              "      <td>10915156</td>\n",
              "      <td>1559308</td>\n",
              "      <td>38.0</td>\n",
              "      <td>362089</td>\n",
              "      <td>0.388439</td>\n",
              "      <td>0.106649</td>\n",
              "      <td>0.007568</td>\n",
              "      <td>0.311317</td>\n",
              "      <td>0.008079</td>\n",
              "      <td>0.114477</td>\n",
              "      <td>No Threat</td>\n",
              "    </tr>\n",
              "    <tr>\n",
              "      <th>1</th>\n",
              "      <td>Butte</td>\n",
              "      <td>1</td>\n",
              "      <td>0.2</td>\n",
              "      <td>2120</td>\n",
              "      <td>303</td>\n",
              "      <td>99.90%</td>\n",
              "      <td>924.7</td>\n",
              "      <td>1551046</td>\n",
              "      <td>221578</td>\n",
              "      <td>36.9</td>\n",
              "      <td>362089</td>\n",
              "      <td>0.801899</td>\n",
              "      <td>0.018176</td>\n",
              "      <td>0.010644</td>\n",
              "      <td>0.047289</td>\n",
              "      <td>0.003641</td>\n",
              "      <td>0.055989</td>\n",
              "      <td>No Threat</td>\n",
              "    </tr>\n",
              "    <tr>\n",
              "      <th>2</th>\n",
              "      <td>Calaveras</td>\n",
              "      <td>0</td>\n",
              "      <td>0.0</td>\n",
              "      <td>250</td>\n",
              "      <td>36</td>\n",
              "      <td>100.00%</td>\n",
              "      <td>303.1</td>\n",
              "      <td>314447</td>\n",
              "      <td>44921</td>\n",
              "      <td>52.0</td>\n",
              "      <td>239750</td>\n",
              "      <td>0.854993</td>\n",
              "      <td>0.018039</td>\n",
              "      <td>0.012274</td>\n",
              "      <td>0.038999</td>\n",
              "      <td>0.000894</td>\n",
              "      <td>0.039882</td>\n",
              "      <td>No Threat</td>\n",
              "    </tr>\n",
              "    <tr>\n",
              "      <th>3</th>\n",
              "      <td>Colusa</td>\n",
              "      <td>0</td>\n",
              "      <td>0.0</td>\n",
              "      <td>400</td>\n",
              "      <td>57</td>\n",
              "      <td>100.00%</td>\n",
              "      <td>129.5</td>\n",
              "      <td>149968</td>\n",
              "      <td>21424</td>\n",
              "      <td>36.4</td>\n",
              "      <td>239750</td>\n",
              "      <td>0.736003</td>\n",
              "      <td>0.024059</td>\n",
              "      <td>0.005917</td>\n",
              "      <td>0.083866</td>\n",
              "      <td>0.001967</td>\n",
              "      <td>0.106023</td>\n",
              "      <td>No Threat</td>\n",
              "    </tr>\n",
              "    <tr>\n",
              "      <th>4</th>\n",
              "      <td>Contra Costa</td>\n",
              "      <td>100</td>\n",
              "      <td>20.0</td>\n",
              "      <td>5594</td>\n",
              "      <td>799</td>\n",
              "      <td>97.50%</td>\n",
              "      <td>9416.4</td>\n",
              "      <td>7568624</td>\n",
              "      <td>1081232</td>\n",
              "      <td>40.0</td>\n",
              "      <td>239750</td>\n",
              "      <td>0.520561</td>\n",
              "      <td>0.088069</td>\n",
              "      <td>0.005083</td>\n",
              "      <td>0.178033</td>\n",
              "      <td>0.004009</td>\n",
              "      <td>0.140747</td>\n",
              "      <td>No Threat</td>\n",
              "    </tr>\n",
              "  </tbody>\n",
              "</table>\n",
              "</div>"
            ],
            "text/plain": [
              "         county  ...    Hotspot\n",
              "0       Alameda  ...  No Threat\n",
              "1         Butte  ...  No Threat\n",
              "2     Calaveras  ...  No Threat\n",
              "3        Colusa  ...  No Threat\n",
              "4  Contra Costa  ...  No Threat\n",
              "\n",
              "[5 rows x 18 columns]"
            ]
          },
          "metadata": {
            "tags": []
          },
          "execution_count": 36
        }
      ]
    },
    {
      "cell_type": "code",
      "metadata": {
        "id": "vfwgBT1IW3CW",
        "colab": {
          "base_uri": "https://localhost:8080/"
        },
        "outputId": "abd1daeb-976b-49f8-cd68-d3b71d2648c4"
      },
      "source": [
        "# Import LabelEncoder\n",
        "from sklearn import preprocessing\n",
        "#creating labelEncoder\n",
        "le = preprocessing.LabelEncoder()\n",
        "# Converting string labels into numbers.\n",
        "hotspot_encoded=le.fit_transform(df.Hotspot)\n",
        "print(hotspot_encoded)\n",
        "#add to dataframe\n",
        "df['Hotspot_encoded'] = hotspot_encoded"
      ],
      "execution_count": null,
      "outputs": [
        {
          "output_type": "stream",
          "text": [
            "[1 1 1 ... 1 1 1]\n"
          ],
          "name": "stdout"
        }
      ]
    },
    {
      "cell_type": "code",
      "metadata": {
        "id": "i0IPvnC_W3gQ",
        "colab": {
          "base_uri": "https://localhost:8080/",
          "height": 612
        },
        "outputId": "c4fd7b40-8769-4493-947f-492f38bc1543"
      },
      "source": [
        "df_x = df[df['Hotspot_encoded'] == 1]\n",
        "df_x = df_x.sample(710)\n",
        "df_x\n",
        "\n",
        "df_y = df[df['Hotspot_encoded'] == 0]\n",
        "df_y\n",
        "\n",
        "df_final = pd.concat([df_x, df_y])\n",
        "df_final"
      ],
      "execution_count": null,
      "outputs": [
        {
          "output_type": "execute_result",
          "data": {
            "text/html": [
              "<div>\n",
              "<style scoped>\n",
              "    .dataframe tbody tr th:only-of-type {\n",
              "        vertical-align: middle;\n",
              "    }\n",
              "\n",
              "    .dataframe tbody tr th {\n",
              "        vertical-align: top;\n",
              "    }\n",
              "\n",
              "    .dataframe thead th {\n",
              "        text-align: right;\n",
              "    }\n",
              "</style>\n",
              "<table border=\"1\" class=\"dataframe\">\n",
              "  <thead>\n",
              "    <tr style=\"text-align: right;\">\n",
              "      <th></th>\n",
              "      <th>county</th>\n",
              "      <th>Sum of Reported Cases</th>\n",
              "      <th>Critical_Cases_(Requiring_Bed)</th>\n",
              "      <th>Sum of all_hospital_beds</th>\n",
              "      <th>Beds_per_day</th>\n",
              "      <th>Percent_Beds_Avail</th>\n",
              "      <th>Sum of Pop_density</th>\n",
              "      <th>Sum of Population</th>\n",
              "      <th>Total_Population</th>\n",
              "      <th>Average of Median_age</th>\n",
              "      <th>Sum of Per Capita Income</th>\n",
              "      <th>Average of White % of Pop</th>\n",
              "      <th>Average of Black %. Of Pop</th>\n",
              "      <th>Average of Indian Native % of Pop</th>\n",
              "      <th>Average of Asian % of Pop</th>\n",
              "      <th>Average of Hawaiian Pacific Islander</th>\n",
              "      <th>Average of Other Race % of Pop</th>\n",
              "      <th>Hotspot</th>\n",
              "      <th>Hotspot_encoded</th>\n",
              "    </tr>\n",
              "  </thead>\n",
              "  <tbody>\n",
              "    <tr>\n",
              "      <th>838</th>\n",
              "      <td>Humboldt</td>\n",
              "      <td>45</td>\n",
              "      <td>9.0</td>\n",
              "      <td>1830</td>\n",
              "      <td>261</td>\n",
              "      <td>96.60%</td>\n",
              "      <td>233.1</td>\n",
              "      <td>944132</td>\n",
              "      <td>134876</td>\n",
              "      <td>38.4</td>\n",
              "      <td>176820</td>\n",
              "      <td>0.787397</td>\n",
              "      <td>0.015189</td>\n",
              "      <td>0.052177</td>\n",
              "      <td>0.026004</td>\n",
              "      <td>0.003976</td>\n",
              "      <td>0.036191</td>\n",
              "      <td>No Threat</td>\n",
              "      <td>1</td>\n",
              "    </tr>\n",
              "    <tr>\n",
              "      <th>869</th>\n",
              "      <td>Santa Clara</td>\n",
              "      <td>1334</td>\n",
              "      <td>266.8</td>\n",
              "      <td>21982</td>\n",
              "      <td>3140</td>\n",
              "      <td>91.50%</td>\n",
              "      <td>9885.4</td>\n",
              "      <td>12890983</td>\n",
              "      <td>1841569</td>\n",
              "      <td>37.4</td>\n",
              "      <td>271635</td>\n",
              "      <td>0.451397</td>\n",
              "      <td>0.025577</td>\n",
              "      <td>0.004465</td>\n",
              "      <td>0.376954</td>\n",
              "      <td>0.003674</td>\n",
              "      <td>0.084597</td>\n",
              "      <td>No Threat</td>\n",
              "      <td>1</td>\n",
              "    </tr>\n",
              "    <tr>\n",
              "      <th>2661</th>\n",
              "      <td>Tulare</td>\n",
              "      <td>212</td>\n",
              "      <td>42.4</td>\n",
              "      <td>4641</td>\n",
              "      <td>663</td>\n",
              "      <td>93.60%</td>\n",
              "      <td>652.4</td>\n",
              "      <td>3157756</td>\n",
              "      <td>451108</td>\n",
              "      <td>31.4</td>\n",
              "      <td>188524</td>\n",
              "      <td>0.675142</td>\n",
              "      <td>0.014610</td>\n",
              "      <td>0.015236</td>\n",
              "      <td>0.034852</td>\n",
              "      <td>0.001849</td>\n",
              "      <td>0.212808</td>\n",
              "      <td>No Threat</td>\n",
              "      <td>1</td>\n",
              "    </tr>\n",
              "    <tr>\n",
              "      <th>381</th>\n",
              "      <td>Alameda</td>\n",
              "      <td>395</td>\n",
              "      <td>79.0</td>\n",
              "      <td>20776</td>\n",
              "      <td>2968</td>\n",
              "      <td>97.30%</td>\n",
              "      <td>13289.5</td>\n",
              "      <td>10915156</td>\n",
              "      <td>1559308</td>\n",
              "      <td>38.0</td>\n",
              "      <td>362089</td>\n",
              "      <td>0.388439</td>\n",
              "      <td>0.106649</td>\n",
              "      <td>0.007568</td>\n",
              "      <td>0.311317</td>\n",
              "      <td>0.008079</td>\n",
              "      <td>0.114477</td>\n",
              "      <td>No Threat</td>\n",
              "      <td>1</td>\n",
              "    </tr>\n",
              "    <tr>\n",
              "      <th>2373</th>\n",
              "      <td>Shasta</td>\n",
              "      <td>152</td>\n",
              "      <td>30.4</td>\n",
              "      <td>3969</td>\n",
              "      <td>567</td>\n",
              "      <td>94.60%</td>\n",
              "      <td>324.8</td>\n",
              "      <td>1249640</td>\n",
              "      <td>178520</td>\n",
              "      <td>41.0</td>\n",
              "      <td>326998</td>\n",
              "      <td>0.860101</td>\n",
              "      <td>0.010429</td>\n",
              "      <td>0.022362</td>\n",
              "      <td>0.035073</td>\n",
              "      <td>0.003054</td>\n",
              "      <td>0.022951</td>\n",
              "      <td>No Threat</td>\n",
              "      <td>1</td>\n",
              "    </tr>\n",
              "    <tr>\n",
              "      <th>...</th>\n",
              "      <td>...</td>\n",
              "      <td>...</td>\n",
              "      <td>...</td>\n",
              "      <td>...</td>\n",
              "      <td>...</td>\n",
              "      <td>...</td>\n",
              "      <td>...</td>\n",
              "      <td>...</td>\n",
              "      <td>...</td>\n",
              "      <td>...</td>\n",
              "      <td>...</td>\n",
              "      <td>...</td>\n",
              "      <td>...</td>\n",
              "      <td>...</td>\n",
              "      <td>...</td>\n",
              "      <td>...</td>\n",
              "      <td>...</td>\n",
              "      <td>...</td>\n",
              "      <td>...</td>\n",
              "    </tr>\n",
              "    <tr>\n",
              "      <th>2624</th>\n",
              "      <td>Kings</td>\n",
              "      <td>150</td>\n",
              "      <td>30.0</td>\n",
              "      <td>828</td>\n",
              "      <td>118</td>\n",
              "      <td>74.60%</td>\n",
              "      <td>761.6</td>\n",
              "      <td>1059730</td>\n",
              "      <td>151390</td>\n",
              "      <td>31.8</td>\n",
              "      <td>171668</td>\n",
              "      <td>0.752766</td>\n",
              "      <td>0.056460</td>\n",
              "      <td>0.018334</td>\n",
              "      <td>0.033373</td>\n",
              "      <td>0.003008</td>\n",
              "      <td>0.090493</td>\n",
              "      <td>Hotspot</td>\n",
              "      <td>0</td>\n",
              "    </tr>\n",
              "    <tr>\n",
              "      <th>2634</th>\n",
              "      <td>Mono</td>\n",
              "      <td>49</td>\n",
              "      <td>9.8</td>\n",
              "      <td>119</td>\n",
              "      <td>17</td>\n",
              "      <td>42.40%</td>\n",
              "      <td>31.5</td>\n",
              "      <td>99351</td>\n",
              "      <td>14193</td>\n",
              "      <td>37.7</td>\n",
              "      <td>172928</td>\n",
              "      <td>0.680007</td>\n",
              "      <td>0.018490</td>\n",
              "      <td>0.009343</td>\n",
              "      <td>0.164534</td>\n",
              "      <td>0.001897</td>\n",
              "      <td>0.050407</td>\n",
              "      <td>Hotspot</td>\n",
              "      <td>0</td>\n",
              "    </tr>\n",
              "    <tr>\n",
              "      <th>2647</th>\n",
              "      <td>San Joaquin</td>\n",
              "      <td>1182</td>\n",
              "      <td>236.4</td>\n",
              "      <td>6224</td>\n",
              "      <td>889</td>\n",
              "      <td>73.40%</td>\n",
              "      <td>3439.8</td>\n",
              "      <td>4907350</td>\n",
              "      <td>701050</td>\n",
              "      <td>34.7</td>\n",
              "      <td>525588</td>\n",
              "      <td>0.565985</td>\n",
              "      <td>0.068875</td>\n",
              "      <td>0.006339</td>\n",
              "      <td>0.161504</td>\n",
              "      <td>0.006926</td>\n",
              "      <td>0.073180</td>\n",
              "      <td>Hotspot</td>\n",
              "      <td>0</td>\n",
              "    </tr>\n",
              "    <tr>\n",
              "      <th>2658</th>\n",
              "      <td>Sutter</td>\n",
              "      <td>66</td>\n",
              "      <td>13.2</td>\n",
              "      <td>98</td>\n",
              "      <td>14</td>\n",
              "      <td>5.70%</td>\n",
              "      <td>1093.4</td>\n",
              "      <td>665469</td>\n",
              "      <td>95067</td>\n",
              "      <td>36.2</td>\n",
              "      <td>186802</td>\n",
              "      <td>0.680007</td>\n",
              "      <td>0.018490</td>\n",
              "      <td>0.009343</td>\n",
              "      <td>0.164534</td>\n",
              "      <td>0.001897</td>\n",
              "      <td>0.050407</td>\n",
              "      <td>Hotspot</td>\n",
              "      <td>0</td>\n",
              "    </tr>\n",
              "    <tr>\n",
              "      <th>2714</th>\n",
              "      <td>Sutter</td>\n",
              "      <td>79</td>\n",
              "      <td>15.8</td>\n",
              "      <td>98</td>\n",
              "      <td>14</td>\n",
              "      <td>-12.90%</td>\n",
              "      <td>1093.4</td>\n",
              "      <td>665469</td>\n",
              "      <td>95067</td>\n",
              "      <td>36.2</td>\n",
              "      <td>186802</td>\n",
              "      <td>0.680007</td>\n",
              "      <td>0.018490</td>\n",
              "      <td>0.009343</td>\n",
              "      <td>0.164534</td>\n",
              "      <td>0.001897</td>\n",
              "      <td>0.050407</td>\n",
              "      <td>Hotspot</td>\n",
              "      <td>0</td>\n",
              "    </tr>\n",
              "  </tbody>\n",
              "</table>\n",
              "<p>1420 rows × 19 columns</p>\n",
              "</div>"
            ],
            "text/plain": [
              "           county  Sum of Reported Cases  ...    Hotspot  Hotspot_encoded\n",
              "838      Humboldt                     45  ...  No Threat                1\n",
              "869   Santa Clara                   1334  ...  No Threat                1\n",
              "2661       Tulare                    212  ...  No Threat                1\n",
              "381       Alameda                    395  ...  No Threat                1\n",
              "2373       Shasta                    152  ...  No Threat                1\n",
              "...           ...                    ...  ...        ...              ...\n",
              "2624        Kings                    150  ...    Hotspot                0\n",
              "2634         Mono                     49  ...    Hotspot                0\n",
              "2647  San Joaquin                   1182  ...    Hotspot                0\n",
              "2658       Sutter                     66  ...    Hotspot                0\n",
              "2714       Sutter                     79  ...    Hotspot                0\n",
              "\n",
              "[1420 rows x 19 columns]"
            ]
          },
          "metadata": {
            "tags": []
          },
          "execution_count": 38
        }
      ]
    },
    {
      "cell_type": "code",
      "metadata": {
        "id": "SJ-c1k2VW5wU"
      },
      "source": [
        "# training data\n",
        "features_list = ['Sum of Pop_density',\t'Sum of Population',\t'Average of Median_age',\t'Sum of Per Capita Income',\t'Average of White % of Pop', 'Average of Black %. Of Pop', 'Average of Indian Native % of Pop',\t'Average of Asian % of Pop',\t'Average of Hawaiian Pacific Islander', 'Average of Other Race % of Pop']\n",
        "X = df_final[features_list]\n",
        "y = df_final['Hotspot_encoded']"
      ],
      "execution_count": null,
      "outputs": []
    },
    {
      "cell_type": "code",
      "metadata": {
        "id": "exNya9NTW85W"
      },
      "source": [
        "#create test set (30% of data) and training set (70% of data)\n",
        "X_train, X_test, y_train, y_test = train_test_split(X, y, test_size=0.3, train_size = 0.7)"
      ],
      "execution_count": null,
      "outputs": []
    },
    {
      "cell_type": "code",
      "metadata": {
        "id": "C6LCficpW-VQ",
        "colab": {
          "base_uri": "https://localhost:8080/"
        },
        "outputId": "aafb5e05-4693-4aee-dd02-16e1d91ce8f5"
      },
      "source": [
        "#grid search to tune model\n",
        "kn = KNeighborsClassifier()\n",
        "params = {\n",
        "    'n_neighbors' : [5, 25],\n",
        "    'weights': ['uniform', 'distance'],\n",
        "    'algorithm': ['auto', 'ball_tree', 'kd_tree', 'brute']\n",
        "}\n",
        "grid_kn = GridSearchCV(estimator = kn,\n",
        "                        param_grid = params,\n",
        "                        scoring = 'accuracy', \n",
        "                        cv = 5, \n",
        "                        verbose = 1,\n",
        "                        n_jobs = -1)\n",
        "grid_kn.fit(X_train, y_train)"
      ],
      "execution_count": null,
      "outputs": [
        {
          "output_type": "stream",
          "text": [
            "Fitting 5 folds for each of 16 candidates, totalling 80 fits\n"
          ],
          "name": "stdout"
        },
        {
          "output_type": "stream",
          "text": [
            "[Parallel(n_jobs=-1)]: Using backend LokyBackend with 2 concurrent workers.\n",
            "[Parallel(n_jobs=-1)]: Done  80 out of  80 | elapsed:    1.9s finished\n"
          ],
          "name": "stderr"
        },
        {
          "output_type": "execute_result",
          "data": {
            "text/plain": [
              "GridSearchCV(cv=5, error_score=nan,\n",
              "             estimator=KNeighborsClassifier(algorithm='auto', leaf_size=30,\n",
              "                                            metric='minkowski',\n",
              "                                            metric_params=None, n_jobs=None,\n",
              "                                            n_neighbors=5, p=2,\n",
              "                                            weights='uniform'),\n",
              "             iid='deprecated', n_jobs=-1,\n",
              "             param_grid={'algorithm': ['auto', 'ball_tree', 'kd_tree', 'brute'],\n",
              "                         'n_neighbors': [5, 25],\n",
              "                         'weights': ['uniform', 'distance']},\n",
              "             pre_dispatch='2*n_jobs', refit=True, return_train_score=False,\n",
              "             scoring='accuracy', verbose=1)"
            ]
          },
          "metadata": {
            "tags": []
          },
          "execution_count": 41
        }
      ]
    },
    {
      "cell_type": "code",
      "metadata": {
        "id": "9Q3zV-HmXA3x",
        "colab": {
          "base_uri": "https://localhost:8080/"
        },
        "outputId": "37f43b46-6e33-43d9-f7d9-0e6d7ece7f92"
      },
      "source": [
        "print(grid_kn.best_estimator_)"
      ],
      "execution_count": null,
      "outputs": [
        {
          "output_type": "stream",
          "text": [
            "KNeighborsClassifier(algorithm='brute', leaf_size=30, metric='minkowski',\n",
            "                     metric_params=None, n_jobs=None, n_neighbors=5, p=2,\n",
            "                     weights='uniform')\n"
          ],
          "name": "stdout"
        }
      ]
    },
    {
      "cell_type": "code",
      "metadata": {
        "id": "VSE5ki3wXBUp",
        "colab": {
          "base_uri": "https://localhost:8080/"
        },
        "outputId": "64adcbd9-08aa-41fa-8888-050c4c0f5386"
      },
      "source": [
        "model = KNeighborsClassifier(algorithm='auto', leaf_size=30, metric='minkowski',\n",
        "                     metric_params=None, n_jobs=None, n_neighbors=25, p=2,\n",
        "                     weights='distance')\n",
        "\n",
        "# Train the model using the training sets\n",
        "model.fit(X_train,y_train)\n",
        "\n",
        "#Predict Output\n",
        "y_pred= model.predict(X_test)\n",
        "print(y_pred)"
      ],
      "execution_count": null,
      "outputs": [
        {
          "output_type": "stream",
          "text": [
            "[1 0 1 1 0 0 1 0 1 0 1 1 1 0 1 0 0 0 0 1 0 0 1 0 1 1 0 1 0 1 0 0 0 0 1 0 1\n",
            " 1 1 1 1 1 1 1 1 0 0 1 0 0 1 0 1 1 1 0 0 1 0 0 1 0 1 1 0 1 1 1 0 0 0 1 1 0\n",
            " 1 1 1 1 0 1 1 0 0 0 0 1 1 1 0 1 0 1 1 1 1 1 1 1 0 1 1 1 1 1 1 0 1 0 1 1 0\n",
            " 1 1 0 0 1 0 0 0 0 0 1 0 1 1 1 1 0 0 0 0 0 0 1 1 1 0 0 1 0 1 0 1 0 0 0 1 0\n",
            " 0 1 0 0 1 1 1 1 1 0 1 1 1 1 1 1 1 1 1 0 1 0 1 0 0 1 1 1 1 1 1 0 0 0 0 0 1\n",
            " 1 0 0 1 1 1 0 1 0 0 0 1 0 0 0 0 1 0 0 1 1 0 1 1 1 1 1 0 1 0 1 1 1 1 0 0 0\n",
            " 0 1 1 1 0 0 1 1 1 0 0 1 1 1 1 1 1 0 0 1 1 0 0 0 1 1 1 1 0 0 1 0 0 0 1 0 0\n",
            " 0 0 1 1 0 0 1 0 0 1 0 0 1 1 1 0 0 1 1 1 1 0 1 1 1 1 1 1 1 1 0 0 0 1 0 1 0\n",
            " 0 1 0 1 0 1 0 1 0 1 1 1 1 0 1 0 1 1 1 1 1 0 1 1 1 1 1 1 0 0 1 1 0 0 0 1 1\n",
            " 0 1 1 0 1 1 0 1 1 1 1 1 0 0 1 1 0 1 1 0 0 1 1 0 1 1 0 1 1 0 1 1 0 0 0 1 1\n",
            " 0 1 1 1 0 1 0 1 0 1 1 1 1 1 1 0 1 1 1 1 0 1 0 1 1 0 1 1 0 1 1 0 1 1 1 0 0\n",
            " 1 0 0 1 0 0 0 1 1 1 0 1 1 0 0 1 0 0 0]\n"
          ],
          "name": "stdout"
        }
      ]
    },
    {
      "cell_type": "code",
      "metadata": {
        "id": "k6XTtsWCXDHC",
        "colab": {
          "base_uri": "https://localhost:8080/"
        },
        "outputId": "adea6aaa-bd94-49f6-92f5-db0c31967905"
      },
      "source": [
        "#Evaluate Model Performance\n",
        "from sklearn import metrics\n",
        "from sklearn.metrics import classification_report\n",
        "\n",
        "#Accuracy \n",
        "print(metrics.accuracy_score(y_test, y_pred))\n",
        "\n",
        "#Precision\n",
        "print(metrics.precision_score(y_test, y_pred))\n",
        "\n",
        "#Recall\n",
        "print(metrics.recall_score(y_test, y_pred))\n",
        "\n",
        "#F1 Score\n",
        "print(metrics.f1_score(y_test, y_pred))\n",
        "\n",
        "#ROC Curve\n",
        "print(classification_report(y_test, y_pred))\n",
        "\n",
        "#1 = No Threat\n",
        "#0 = Hotspot"
      ],
      "execution_count": null,
      "outputs": [
        {
          "output_type": "stream",
          "text": [
            "0.5234741784037559\n",
            "0.5\n",
            "0.6009852216748769\n",
            "0.5458612975391499\n",
            "              precision    recall  f1-score   support\n",
            "\n",
            "           0       0.55      0.45      0.50       223\n",
            "           1       0.50      0.60      0.55       203\n",
            "\n",
            "    accuracy                           0.52       426\n",
            "   macro avg       0.53      0.53      0.52       426\n",
            "weighted avg       0.53      0.52      0.52       426\n",
            "\n"
          ],
          "name": "stdout"
        }
      ]
    },
    {
      "cell_type": "code",
      "metadata": {
        "id": "pSpdJoghXE0f",
        "colab": {
          "base_uri": "https://localhost:8080/"
        },
        "outputId": "c3be74aa-3b44-4f84-f098-25cc8729ff2d"
      },
      "source": [
        "from sklearn.model_selection import RandomizedSearchCV\n",
        "\n",
        "\n",
        "#random search to tune model\n",
        "kn = KNeighborsClassifier()\n",
        "params = {\n",
        "    'n_neighbors' : [5, 25],\n",
        "    'weights': ['uniform', 'distance'],\n",
        "    'algorithm': ['auto', 'ball_tree', 'kd_tree', 'brute']\n",
        "}\n",
        "rand_kn = RandomizedSearchCV(estimator = kn,\n",
        "                        param_distributions = params,\n",
        "                        scoring = 'accuracy')\n",
        "rand_kn.fit(X_train, y_train)"
      ],
      "execution_count": null,
      "outputs": [
        {
          "output_type": "execute_result",
          "data": {
            "text/plain": [
              "RandomizedSearchCV(cv=None, error_score=nan,\n",
              "                   estimator=KNeighborsClassifier(algorithm='auto',\n",
              "                                                  leaf_size=30,\n",
              "                                                  metric='minkowski',\n",
              "                                                  metric_params=None,\n",
              "                                                  n_jobs=None, n_neighbors=5,\n",
              "                                                  p=2, weights='uniform'),\n",
              "                   iid='deprecated', n_iter=10, n_jobs=None,\n",
              "                   param_distributions={'algorithm': ['auto', 'ball_tree',\n",
              "                                                      'kd_tree', 'brute'],\n",
              "                                        'n_neighbors': [5, 25],\n",
              "                                        'weights': ['uniform', 'distance']},\n",
              "                   pre_dispatch='2*n_jobs', random_state=None, refit=True,\n",
              "                   return_train_score=False, scoring='accuracy', verbose=0)"
            ]
          },
          "metadata": {
            "tags": []
          },
          "execution_count": 45
        }
      ]
    },
    {
      "cell_type": "code",
      "metadata": {
        "id": "PYdT-aPlXG75",
        "colab": {
          "base_uri": "https://localhost:8080/"
        },
        "outputId": "e4b701ae-3888-4494-8d19-49257aa265e5"
      },
      "source": [
        "print(rand_kn.best_estimator_)"
      ],
      "execution_count": null,
      "outputs": [
        {
          "output_type": "stream",
          "text": [
            "KNeighborsClassifier(algorithm='brute', leaf_size=30, metric='minkowski',\n",
            "                     metric_params=None, n_jobs=None, n_neighbors=5, p=2,\n",
            "                     weights='uniform')\n"
          ],
          "name": "stdout"
        }
      ]
    },
    {
      "cell_type": "code",
      "metadata": {
        "id": "t3nWDbbzXIi7",
        "colab": {
          "base_uri": "https://localhost:8080/"
        },
        "outputId": "ee38bf3a-bb49-4c53-8a4c-3671bba49209"
      },
      "source": [
        "model2 = KNeighborsClassifier(algorithm='ball_tree', leaf_size=30, metric='minkowski',\n",
        "                     metric_params=None, n_jobs=None, n_neighbors=25, p=2,\n",
        "                     weights='distance')\n",
        "\n",
        "# Train the model using the training sets\n",
        "model2.fit(X_train,y_train)\n",
        "\n",
        "#Predict Output\n",
        "y_pred2= model2.predict(X_test)\n",
        "print(y_pred2)"
      ],
      "execution_count": null,
      "outputs": [
        {
          "output_type": "stream",
          "text": [
            "[1 0 1 1 0 0 1 0 1 0 1 1 1 0 1 0 0 0 0 1 0 0 1 0 1 1 0 1 0 1 0 0 0 0 1 0 1\n",
            " 1 1 1 1 1 1 1 1 0 0 1 0 0 1 0 1 1 1 0 0 1 0 0 1 0 1 1 0 1 1 1 0 0 0 1 1 0\n",
            " 1 1 1 1 0 1 1 0 0 0 0 1 1 1 0 1 0 1 1 1 1 1 1 1 0 1 1 1 1 1 1 0 1 0 1 1 0\n",
            " 1 1 0 0 1 0 0 0 0 0 1 0 1 1 1 1 0 0 0 0 0 0 1 1 1 0 0 1 0 1 0 1 0 0 0 1 0\n",
            " 0 1 0 0 1 1 1 1 1 0 1 1 1 1 1 1 1 1 1 0 1 0 1 0 0 1 1 1 1 1 1 0 0 0 0 0 1\n",
            " 1 0 0 1 1 1 0 1 0 0 0 1 0 0 0 0 1 0 0 1 1 0 1 1 1 1 1 0 1 0 1 1 1 1 0 0 0\n",
            " 0 1 1 1 0 0 1 1 1 0 0 1 1 1 1 1 1 0 0 1 1 0 0 0 1 1 1 1 0 0 1 0 0 0 1 0 0\n",
            " 0 0 1 1 0 0 1 0 0 1 0 0 1 1 1 0 0 1 1 1 1 0 1 1 1 1 1 1 1 1 0 0 0 1 0 1 0\n",
            " 0 1 0 1 0 1 0 1 0 1 1 1 1 0 1 0 1 1 1 1 1 0 1 1 1 1 1 1 0 0 1 1 0 0 0 1 1\n",
            " 0 1 1 0 1 1 0 1 1 1 1 1 0 0 1 1 0 1 1 0 0 1 1 0 1 1 0 1 1 0 1 1 0 0 0 1 1\n",
            " 0 1 1 1 0 1 0 1 0 1 1 1 1 1 1 0 1 1 1 1 0 1 0 1 1 0 1 1 0 1 1 0 1 1 1 0 0\n",
            " 1 0 0 1 0 0 0 1 1 1 0 1 1 0 0 1 0 0 0]\n"
          ],
          "name": "stdout"
        }
      ]
    },
    {
      "cell_type": "code",
      "metadata": {
        "id": "J3nJTFLmXLEh",
        "colab": {
          "base_uri": "https://localhost:8080/"
        },
        "outputId": "764161d5-1dbb-4228-b69b-939eb3ea98f4"
      },
      "source": [
        "#Evaluate Model Performance\n",
        "from sklearn import metrics\n",
        "from sklearn.metrics import classification_report\n",
        "\n",
        "#Accuracy \n",
        "print(metrics.accuracy_score(y_test, y_pred2))\n",
        "\n",
        "#Precision\n",
        "print(metrics.precision_score(y_test, y_pred2))\n",
        "\n",
        "#Recall\n",
        "print(metrics.recall_score(y_test, y_pred2))\n",
        "\n",
        "#F1 Score\n",
        "print(metrics.f1_score(y_test, y_pred2))\n",
        "\n",
        "#ROC Curve\n",
        "print(classification_report(y_test, y_pred2))"
      ],
      "execution_count": null,
      "outputs": [
        {
          "output_type": "stream",
          "text": [
            "0.5234741784037559\n",
            "0.5\n",
            "0.6009852216748769\n",
            "0.5458612975391499\n",
            "              precision    recall  f1-score   support\n",
            "\n",
            "           0       0.55      0.45      0.50       223\n",
            "           1       0.50      0.60      0.55       203\n",
            "\n",
            "    accuracy                           0.52       426\n",
            "   macro avg       0.53      0.53      0.52       426\n",
            "weighted avg       0.53      0.52      0.52       426\n",
            "\n"
          ],
          "name": "stdout"
        }
      ]
    },
    {
      "cell_type": "markdown",
      "metadata": {
        "id": "GrhFY0CBe2zH"
      },
      "source": [
        "# Descriptive Stats\n"
      ]
    },
    {
      "cell_type": "code",
      "metadata": {
        "id": "p8ceO4Sd-FYB"
      },
      "source": [
        ""
      ],
      "execution_count": null,
      "outputs": []
    }
  ]
}